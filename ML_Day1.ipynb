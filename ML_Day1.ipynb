{
  "nbformat": 4,
  "nbformat_minor": 0,
  "metadata": {
    "colab": {
      "name": "ML_Day1.ipynb",
      "provenance": [],
      "authorship_tag": "ABX9TyNFID/3ClQiGbA/m9QbI/vS",
      "include_colab_link": true
    },
    "kernelspec": {
      "name": "python3",
      "display_name": "Python 3"
    },
    "language_info": {
      "name": "python"
    }
  },
  "cells": [
    {
      "cell_type": "markdown",
      "metadata": {
        "id": "view-in-github",
        "colab_type": "text"
      },
      "source": [
        "<a href=\"https://colab.research.google.com/github/JuJu2181/LearnML/blob/master/ML_Day1.ipynb\" target=\"_parent\"><img src=\"https://colab.research.google.com/assets/colab-badge.svg\" alt=\"Open In Colab\"/></a>"
      ]
    },
    {
      "cell_type": "markdown",
      "metadata": {
        "id": "yo5uOhLDwIJm"
      },
      "source": [
        "# ML FOR BEGINNERS\n",
        "## Regression Day1: Tools"
      ]
    },
    {
      "cell_type": "code",
      "metadata": {
        "id": "kMW4d9Emva0i"
      },
      "source": [
        "#importing all necessary libraries\n",
        "import matplotlib.pyplot as plt\n",
        "import numpy as np\n",
        "from sklearn import datasets, linear_model, model_selection"
      ],
      "execution_count": 1,
      "outputs": []
    },
    {
      "cell_type": "code",
      "metadata": {
        "colab": {
          "base_uri": "https://localhost:8080/"
        },
        "id": "BYEvkzRBwmOD",
        "outputId": "7b9daa98-00bd-4987-89ff-ba7d737c5a23"
      },
      "source": [
        "#Loading the diabetes dataset\n",
        "#return_X_y = True signals that x will be data matrix(feature) and y will the regression target\n",
        "X,y = datasets.load_diabetes(return_X_y=True)\n",
        "print(X.shape)\n",
        "print(X[0])"
      ],
      "execution_count": 22,
      "outputs": [
        {
          "output_type": "stream",
          "name": "stdout",
          "text": [
            "(442, 10)\n",
            "[ 0.03807591  0.05068012  0.06169621  0.02187235 -0.0442235  -0.03482076\n",
            " -0.04340085 -0.00259226  0.01990842 -0.01764613]\n"
          ]
        }
      ]
    },
    {
      "cell_type": "markdown",
      "metadata": {
        "id": "vxJjen854IiX"
      },
      "source": [
        "> newaxis function in numpy can help to change or expand the dimension of a numpy array\n",
        "\n",
        "[Newaxis Description](https://www.educba.com/numpy-newaxis/)"
      ]
    },
    {
      "cell_type": "code",
      "metadata": {
        "colab": {
          "base_uri": "https://localhost:8080/"
        },
        "id": "-0Ae3mLQ1knR",
        "outputId": "c75fbf3b-52c7-422b-9222-ff0bff4b0d4f"
      },
      "source": [
        "#plotting a portion of data using numpy \n",
        "X = X[:,np.newaxis,2]\n",
        "print(X.shape)\n",
        "print(X[0])"
      ],
      "execution_count": 23,
      "outputs": [
        {
          "output_type": "stream",
          "name": "stdout",
          "text": [
            "(442, 1)\n",
            "[0.06169621]\n"
          ]
        }
      ]
    },
    {
      "cell_type": "code",
      "metadata": {
        "id": "f4aTtmBw2BwW"
      },
      "source": [
        "# splitting the available data to train and test data \n",
        "X_train, X_test, y_train, y_test = model_selection.train_test_split(X,y,test_size=0.33)"
      ],
      "execution_count": 24,
      "outputs": []
    },
    {
      "cell_type": "code",
      "metadata": {
        "colab": {
          "base_uri": "https://localhost:8080/"
        },
        "id": "ulhQ9iGt41oP",
        "outputId": "4cab5363-da36-4b79-de1c-9cec8385e584"
      },
      "source": [
        "#Loading the linear regression modela and then training it withe the training data of X and y \n",
        "model = linear_model.LinearRegression()\n",
        "model.fit(X_train,y_train)"
      ],
      "execution_count": 25,
      "outputs": [
        {
          "output_type": "execute_result",
          "data": {
            "text/plain": [
              "LinearRegression(copy_X=True, fit_intercept=True, n_jobs=None, normalize=False)"
            ]
          },
          "metadata": {},
          "execution_count": 25
        }
      ]
    },
    {
      "cell_type": "code",
      "metadata": {
        "id": "3G015K8K5Bn-"
      },
      "source": [
        "#prediction using test data \n",
        "y_pred = model.predict(X_test)"
      ],
      "execution_count": 26,
      "outputs": []
    },
    {
      "cell_type": "code",
      "metadata": {
        "colab": {
          "base_uri": "https://localhost:8080/",
          "height": 295
        },
        "id": "ADjLQuNE5IpH",
        "outputId": "6ad8ba9c-05ac-4f61-e490-b246769c8968"
      },
      "source": [
        "#Using MatplotLib to create the scatterplot of all X and y test data \n",
        "#and then using the prediction to draw a line in the most appropriate place \n",
        "plt.scatter(X_test,y_test,color='blue')\n",
        "#using the predicted value of y from the model\n",
        "plt.plot(X_test,y_pred,color='red',linewidth=3)\n",
        "plt.xlabel('Scaled BMIs')\n",
        "plt.ylabel('Disease Progression')\n",
        "plt.title('A Graphical Plot to Show Diabetes Progression Against BMI using linear regression')\n",
        "plt.show()"
      ],
      "execution_count": 27,
      "outputs": [
        {
          "output_type": "display_data",
          "data": {
            "image/png": "[encoded data removed]",
            "text/plain": [
              "<Figure size 432x288 with 1 Axes>"
            ]
          },
          "metadata": {
            "needs_background": "light"
          }
        }
      ]
    },
    {
      "cell_type": "code",
      "metadata": {
        "id": "oybldyU555jQ"
      },
      "source": [
        ""
      ],
      "execution_count": null,
      "outputs": []
    }
  ]
}