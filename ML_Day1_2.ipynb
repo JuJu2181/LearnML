{
  "nbformat": 4,
  "nbformat_minor": 0,
  "metadata": {
    "colab": {
      "name": "ML_Day1_2.ipynb",
      "provenance": [],
      "authorship_tag": "ABX9TyOH+nC031ag4kWOZdAB44pu",
      "include_colab_link": true
    },
    "kernelspec": {
      "name": "python3",
      "display_name": "Python 3"
    },
    "language_info": {
      "name": "python"
    }
  },
  "cells": [
    {
      "cell_type": "markdown",
      "metadata": {
        "id": "view-in-github",
        "colab_type": "text"
      },
      "source": [
        "<a href=\"https://colab.research.google.com/github/JuJu2181/LearnML/blob/master/ML_Day1_2.ipynb\" target=\"_parent\"><img src=\"https://colab.research.google.com/assets/colab-badge.svg\" alt=\"Open In Colab\"/></a>"
      ]
    },
    {
      "cell_type": "markdown",
      "metadata": {
        "id": "yo5uOhLDwIJm"
      },
      "source": [
        "# ML FOR BEGINNERS\n",
        "## Regression Day1: Tools"
      ]
    },
    {
      "cell_type": "code",
      "metadata": {
        "id": "kMW4d9Emva0i"
      },
      "source": [
        "#importing all necessary libraries\n",
        "import matplotlib.pyplot as plt\n",
        "import numpy as np\n",
        "from sklearn import datasets, linear_model, model_selection"
      ],
      "execution_count": null,
      "outputs": []
    },
    {
      "cell_type": "code",
      "metadata": {
        "colab": {
          "base_uri": "https://localhost:8080/"
        },
        "id": "BYEvkzRBwmOD",
        "outputId": "7b9daa98-00bd-4987-89ff-ba7d737c5a23"
      },
      "source": [
        "#Loading the diabetes dataset\n",
        "#return_X_y = True signals that x will be data matrix(feature) and y will the regression target\n",
        "X,y = datasets.load_diabetes(return_X_y=True)\n",
        "print(X.shape)\n",
        "print(X[0])"
      ],
      "execution_count": null,
      "outputs": [
        {
          "output_type": "stream",
          "name": "stdout",
          "text": [
            "(442, 10)\n",
            "[ 0.03807591  0.05068012  0.06169621  0.02187235 -0.0442235  -0.03482076\n",
            " -0.04340085 -0.00259226  0.01990842 -0.01764613]\n"
          ]
        }
      ]
    },
    {
      "cell_type": "markdown",
      "metadata": {
        "id": "vxJjen854IiX"
      },
      "source": [
        "> newaxis function in numpy can help to change or expand the dimension of a numpy array\n",
        "\n",
        "[Newaxis Description](https://www.educba.com/numpy-newaxis/)"
      ]
    },
    {
      "cell_type": "code",
      "metadata": {
        "colab": {
          "base_uri": "https://localhost:8080/"
        },
        "id": "-0Ae3mLQ1knR",
        "outputId": "c75fbf3b-52c7-422b-9222-ff0bff4b0d4f"
      },
      "source": [
        "#plotting a portion of data using numpy \n",
        "X = X[:,np.newaxis,2]\n",
        "print(X.shape)\n",
        "print(X[0])"
      ],
      "execution_count": null,
      "outputs": [
        {
          "output_type": "stream",
          "name": "stdout",
          "text": [
            "(442, 1)\n",
            "[0.06169621]\n"
          ]
        }
      ]
    },
    {
      "cell_type": "code",
      "metadata": {
        "id": "f4aTtmBw2BwW"
      },
      "source": [
        "# splitting the available data to train and test data \n",
        "X_train, X_test, y_train, y_test = model_selection.train_test_split(X,y,test_size=0.33)"
      ],
      "execution_count": null,
      "outputs": []
    },
    {
      "cell_type": "code",
      "metadata": {
        "colab": {
          "base_uri": "https://localhost:8080/"
        },
        "id": "ulhQ9iGt41oP",
        "outputId": "4cab5363-da36-4b79-de1c-9cec8385e584"
      },
      "source": [
        "#Loading the linear regression modela and then training it withe the training data of X and y \n",
        "model = linear_model.LinearRegression()\n",
        "model.fit(X_train,y_train)"
      ],
      "execution_count": null,
      "outputs": [
        {
          "output_type": "execute_result",
          "data": {
            "text/plain": [
              "LinearRegression(copy_X=True, fit_intercept=True, n_jobs=None, normalize=False)"
            ]
          },
          "metadata": {},
          "execution_count": 25
        }
      ]
    },
    {
      "cell_type": "code",
      "metadata": {
        "id": "3G015K8K5Bn-"
      },
      "source": [
        "#prediction using test data \n",
        "y_pred = model.predict(X_test)"
      ],
      "execution_count": null,
      "outputs": []
    },
    {
      "cell_type": "code",
      "metadata": {
        "colab": {
          "base_uri": "https://localhost:8080/",
          "height": 295
        },
        "id": "ADjLQuNE5IpH",
        "outputId": "6ad8ba9c-05ac-4f61-e490-b246769c8968"
      },
      "source": [
        "#Using MatplotLib to create the scatterplot of all X and y test data \n",
        "#and then using the prediction to draw a line in the most appropriate place \n",
        "plt.scatter(X_test,y_test,color='blue')\n",
        "#using the predicted value of y from the model\n",
        "plt.plot(X_test,y_pred,color='red',linewidth=3)\n",
        "plt.xlabel('Scaled BMIs')\n",
        "plt.ylabel('Disease Progression')\n",
        "plt.title('A Graphical Plot to Show Diabetes Progression Against BMI using linear regression')\n",
        "plt.show()"
      ],
      "execution_count": null,
      "outputs": [
        {
          "output_type": "display_data",
          "data": {
            "image/png": "[encoded data removed]",
            "text/plain": [
              "<Figure size 432x288 with 1 Axes>"
            ]
          },
          "metadata": {
            "needs_background": "light"
          }
        }
      ]
    },
    {
      "cell_type": "markdown",
      "metadata": {
        "id": "qjmRpuPZjStS"
      },
      "source": [
        "## Day 2 : Working with DATA"
      ]
    },
    {
      "cell_type": "code",
      "metadata": {
        "id": "oybldyU555jQ",
        "colab": {
          "base_uri": "https://localhost:8080/",
          "height": 348
        },
        "outputId": "e70d9068-2e17-4abe-d50e-ce99b262d72e"
      },
      "source": [
        "import pandas as pd\n",
        "pumpkins = pd.read_csv('https://raw.githubusercontent.com/JuJu2181/ML-For-Beginners/main/2-Regression/data/US-pumpkins.csv')\n",
        "pumpkins.head()\n",
        "# pumpkins.tail()\n"
      ],
      "execution_count": 20,
      "outputs": [
        {
          "output_type": "execute_result",
          "data": {
            "text/html": [
              "<div>\n",
              "<style scoped>\n",
              "    .dataframe tbody tr th:only-of-type {\n",
              "        vertical-align: middle;\n",
              "    }\n",
              "\n",
              "    .dataframe tbody tr th {\n",
              "        vertical-align: top;\n",
              "    }\n",
              "\n",
              "    .dataframe thead th {\n",
              "        text-align: right;\n",
              "    }\n",
              "</style>\n",
              "<table border=\"1\" class=\"dataframe\">\n",
              "  <thead>\n",
              "    <tr style=\"text-align: right;\">\n",
              "      <th></th>\n",
              "      <th>City Name</th>\n",
              "      <th>Type</th>\n",
              "      <th>Package</th>\n",
              "      <th>Variety</th>\n",
              "      <th>Sub Variety</th>\n",
              "      <th>Grade</th>\n",
              "      <th>Date</th>\n",
              "      <th>Low Price</th>\n",
              "      <th>High Price</th>\n",
              "      <th>Mostly Low</th>\n",
              "      <th>Mostly High</th>\n",
              "      <th>Origin</th>\n",
              "      <th>Origin District</th>\n",
              "      <th>Item Size</th>\n",
              "      <th>Color</th>\n",
              "      <th>Environment</th>\n",
              "      <th>Unit of Sale</th>\n",
              "      <th>Quality</th>\n",
              "      <th>Condition</th>\n",
              "      <th>Appearance</th>\n",
              "      <th>Storage</th>\n",
              "      <th>Crop</th>\n",
              "      <th>Repack</th>\n",
              "      <th>Trans Mode</th>\n",
              "      <th>Unnamed: 24</th>\n",
              "      <th>Unnamed: 25</th>\n",
              "    </tr>\n",
              "  </thead>\n",
              "  <tbody>\n",
              "    <tr>\n",
              "      <th>0</th>\n",
              "      <td>BALTIMORE</td>\n",
              "      <td>NaN</td>\n",
              "      <td>24 inch bins</td>\n",
              "      <td>NaN</td>\n",
              "      <td>NaN</td>\n",
              "      <td>NaN</td>\n",
              "      <td>4/29/17</td>\n",
              "      <td>270.0</td>\n",
              "      <td>280.0</td>\n",
              "      <td>270.0</td>\n",
              "      <td>280.0</td>\n",
              "      <td>MARYLAND</td>\n",
              "      <td>NaN</td>\n",
              "      <td>lge</td>\n",
              "      <td>NaN</td>\n",
              "      <td>NaN</td>\n",
              "      <td>NaN</td>\n",
              "      <td>NaN</td>\n",
              "      <td>NaN</td>\n",
              "      <td>NaN</td>\n",
              "      <td>NaN</td>\n",
              "      <td>NaN</td>\n",
              "      <td>E</td>\n",
              "      <td>NaN</td>\n",
              "      <td>NaN</td>\n",
              "      <td>NaN</td>\n",
              "    </tr>\n",
              "    <tr>\n",
              "      <th>1</th>\n",
              "      <td>BALTIMORE</td>\n",
              "      <td>NaN</td>\n",
              "      <td>24 inch bins</td>\n",
              "      <td>NaN</td>\n",
              "      <td>NaN</td>\n",
              "      <td>NaN</td>\n",
              "      <td>5/6/17</td>\n",
              "      <td>270.0</td>\n",
              "      <td>280.0</td>\n",
              "      <td>270.0</td>\n",
              "      <td>280.0</td>\n",
              "      <td>MARYLAND</td>\n",
              "      <td>NaN</td>\n",
              "      <td>lge</td>\n",
              "      <td>NaN</td>\n",
              "      <td>NaN</td>\n",
              "      <td>NaN</td>\n",
              "      <td>NaN</td>\n",
              "      <td>NaN</td>\n",
              "      <td>NaN</td>\n",
              "      <td>NaN</td>\n",
              "      <td>NaN</td>\n",
              "      <td>E</td>\n",
              "      <td>NaN</td>\n",
              "      <td>NaN</td>\n",
              "      <td>NaN</td>\n",
              "    </tr>\n",
              "    <tr>\n",
              "      <th>2</th>\n",
              "      <td>BALTIMORE</td>\n",
              "      <td>NaN</td>\n",
              "      <td>24 inch bins</td>\n",
              "      <td>HOWDEN TYPE</td>\n",
              "      <td>NaN</td>\n",
              "      <td>NaN</td>\n",
              "      <td>9/24/16</td>\n",
              "      <td>160.0</td>\n",
              "      <td>160.0</td>\n",
              "      <td>160.0</td>\n",
              "      <td>160.0</td>\n",
              "      <td>DELAWARE</td>\n",
              "      <td>NaN</td>\n",
              "      <td>med</td>\n",
              "      <td>ORANGE</td>\n",
              "      <td>NaN</td>\n",
              "      <td>NaN</td>\n",
              "      <td>NaN</td>\n",
              "      <td>NaN</td>\n",
              "      <td>NaN</td>\n",
              "      <td>NaN</td>\n",
              "      <td>NaN</td>\n",
              "      <td>N</td>\n",
              "      <td>NaN</td>\n",
              "      <td>NaN</td>\n",
              "      <td>NaN</td>\n",
              "    </tr>\n",
              "    <tr>\n",
              "      <th>3</th>\n",
              "      <td>BALTIMORE</td>\n",
              "      <td>NaN</td>\n",
              "      <td>24 inch bins</td>\n",
              "      <td>HOWDEN TYPE</td>\n",
              "      <td>NaN</td>\n",
              "      <td>NaN</td>\n",
              "      <td>9/24/16</td>\n",
              "      <td>160.0</td>\n",
              "      <td>160.0</td>\n",
              "      <td>160.0</td>\n",
              "      <td>160.0</td>\n",
              "      <td>VIRGINIA</td>\n",
              "      <td>NaN</td>\n",
              "      <td>med</td>\n",
              "      <td>ORANGE</td>\n",
              "      <td>NaN</td>\n",
              "      <td>NaN</td>\n",
              "      <td>NaN</td>\n",
              "      <td>NaN</td>\n",
              "      <td>NaN</td>\n",
              "      <td>NaN</td>\n",
              "      <td>NaN</td>\n",
              "      <td>N</td>\n",
              "      <td>NaN</td>\n",
              "      <td>NaN</td>\n",
              "      <td>NaN</td>\n",
              "    </tr>\n",
              "    <tr>\n",
              "      <th>4</th>\n",
              "      <td>BALTIMORE</td>\n",
              "      <td>NaN</td>\n",
              "      <td>24 inch bins</td>\n",
              "      <td>HOWDEN TYPE</td>\n",
              "      <td>NaN</td>\n",
              "      <td>NaN</td>\n",
              "      <td>11/5/16</td>\n",
              "      <td>90.0</td>\n",
              "      <td>100.0</td>\n",
              "      <td>90.0</td>\n",
              "      <td>100.0</td>\n",
              "      <td>MARYLAND</td>\n",
              "      <td>NaN</td>\n",
              "      <td>lge</td>\n",
              "      <td>ORANGE</td>\n",
              "      <td>NaN</td>\n",
              "      <td>NaN</td>\n",
              "      <td>NaN</td>\n",
              "      <td>NaN</td>\n",
              "      <td>NaN</td>\n",
              "      <td>NaN</td>\n",
              "      <td>NaN</td>\n",
              "      <td>N</td>\n",
              "      <td>NaN</td>\n",
              "      <td>NaN</td>\n",
              "      <td>NaN</td>\n",
              "    </tr>\n",
              "  </tbody>\n",
              "</table>\n",
              "</div>"
            ],
            "text/plain": [
              "   City Name Type       Package  ... Trans Mode Unnamed: 24  Unnamed: 25\n",
              "0  BALTIMORE  NaN  24 inch bins  ...        NaN         NaN          NaN\n",
              "1  BALTIMORE  NaN  24 inch bins  ...        NaN         NaN          NaN\n",
              "2  BALTIMORE  NaN  24 inch bins  ...        NaN         NaN          NaN\n",
              "3  BALTIMORE  NaN  24 inch bins  ...        NaN         NaN          NaN\n",
              "4  BALTIMORE  NaN  24 inch bins  ...        NaN         NaN          NaN\n",
              "\n",
              "[5 rows x 26 columns]"
            ]
          },
          "metadata": {},
          "execution_count": 20
        }
      ]
    },
    {
      "cell_type": "code",
      "metadata": {
        "colab": {
          "base_uri": "https://localhost:8080/"
        },
        "id": "vYdIi3Uxly-O",
        "outputId": "bedfe483-beb4-432f-8bba-dddaca1b9fd0"
      },
      "source": [
        "#Extracting months from the date\n",
        "pumpkins['Month'] = pd.DatetimeIndex(pumpkins['Date']).month\n",
        "pumpkins['Month']"
      ],
      "execution_count": 21,
      "outputs": [
        {
          "output_type": "execute_result",
          "data": {
            "text/plain": [
              "0        4\n",
              "1        5\n",
              "2        9\n",
              "3        9\n",
              "4       11\n",
              "        ..\n",
              "1752     9\n",
              "1753     9\n",
              "1754     9\n",
              "1755     9\n",
              "1756     9\n",
              "Name: Month, Length: 1757, dtype: int64"
            ]
          },
          "metadata": {},
          "execution_count": 21
        }
      ]
    },
    {
      "cell_type": "code",
      "metadata": {
        "colab": {
          "base_uri": "https://localhost:8080/"
        },
        "id": "1fP4ok3Pk0Ka",
        "outputId": "64eacdbf-9ffa-4e36-c7ca-0a582a82fbbf"
      },
      "source": [
        "#to check if there is missing data in the current dataframe\n",
        "pumpkins.isnull().sum()"
      ],
      "execution_count": 22,
      "outputs": [
        {
          "output_type": "execute_result",
          "data": {
            "text/plain": [
              "City Name             0\n",
              "Type               1712\n",
              "Package               0\n",
              "Variety               5\n",
              "Sub Variety        1461\n",
              "Grade              1757\n",
              "Date                  0\n",
              "Low Price             0\n",
              "High Price            0\n",
              "Mostly Low          103\n",
              "Mostly High         103\n",
              "Origin                3\n",
              "Origin District    1626\n",
              "Item Size           279\n",
              "Color               616\n",
              "Environment        1757\n",
              "Unit of Sale       1595\n",
              "Quality            1757\n",
              "Condition          1757\n",
              "Appearance         1757\n",
              "Storage            1757\n",
              "Crop               1757\n",
              "Repack                0\n",
              "Trans Mode         1757\n",
              "Unnamed: 24        1757\n",
              "Unnamed: 25        1654\n",
              "Month                 0\n",
              "dtype: int64"
            ]
          },
          "metadata": {},
          "execution_count": 22
        }
      ]
    },
    {
      "cell_type": "code",
      "metadata": {
        "id": "aBphZgpMlM2Z"
      },
      "source": [
        "#dropping all the unnecessary columns from the dataframe\n",
        "#axis= 1 is for columns\n",
        "new_columns = ['Package','Month','Low Price','High Price','Date']\n",
        "pumpkins = pumpkins.drop([c for c in pumpkins.columns if c not in new_columns],axis=1)"
      ],
      "execution_count": 23,
      "outputs": []
    },
    {
      "cell_type": "code",
      "metadata": {
        "colab": {
          "base_uri": "https://localhost:8080/",
          "height": 206
        },
        "id": "yPOQwsSlmfCL",
        "outputId": "f0084305-2e6b-4cad-f0b8-ac1653bd89a9"
      },
      "source": [
        "pumpkins.head()"
      ],
      "execution_count": 24,
      "outputs": [
        {
          "output_type": "execute_result",
          "data": {
            "text/html": [
              "<div>\n",
              "<style scoped>\n",
              "    .dataframe tbody tr th:only-of-type {\n",
              "        vertical-align: middle;\n",
              "    }\n",
              "\n",
              "    .dataframe tbody tr th {\n",
              "        vertical-align: top;\n",
              "    }\n",
              "\n",
              "    .dataframe thead th {\n",
              "        text-align: right;\n",
              "    }\n",
              "</style>\n",
              "<table border=\"1\" class=\"dataframe\">\n",
              "  <thead>\n",
              "    <tr style=\"text-align: right;\">\n",
              "      <th></th>\n",
              "      <th>Package</th>\n",
              "      <th>Date</th>\n",
              "      <th>Low Price</th>\n",
              "      <th>High Price</th>\n",
              "      <th>Month</th>\n",
              "    </tr>\n",
              "  </thead>\n",
              "  <tbody>\n",
              "    <tr>\n",
              "      <th>0</th>\n",
              "      <td>24 inch bins</td>\n",
              "      <td>4/29/17</td>\n",
              "      <td>270.0</td>\n",
              "      <td>280.0</td>\n",
              "      <td>4</td>\n",
              "    </tr>\n",
              "    <tr>\n",
              "      <th>1</th>\n",
              "      <td>24 inch bins</td>\n",
              "      <td>5/6/17</td>\n",
              "      <td>270.0</td>\n",
              "      <td>280.0</td>\n",
              "      <td>5</td>\n",
              "    </tr>\n",
              "    <tr>\n",
              "      <th>2</th>\n",
              "      <td>24 inch bins</td>\n",
              "      <td>9/24/16</td>\n",
              "      <td>160.0</td>\n",
              "      <td>160.0</td>\n",
              "      <td>9</td>\n",
              "    </tr>\n",
              "    <tr>\n",
              "      <th>3</th>\n",
              "      <td>24 inch bins</td>\n",
              "      <td>9/24/16</td>\n",
              "      <td>160.0</td>\n",
              "      <td>160.0</td>\n",
              "      <td>9</td>\n",
              "    </tr>\n",
              "    <tr>\n",
              "      <th>4</th>\n",
              "      <td>24 inch bins</td>\n",
              "      <td>11/5/16</td>\n",
              "      <td>90.0</td>\n",
              "      <td>100.0</td>\n",
              "      <td>11</td>\n",
              "    </tr>\n",
              "  </tbody>\n",
              "</table>\n",
              "</div>"
            ],
            "text/plain": [
              "        Package     Date  Low Price  High Price  Month\n",
              "0  24 inch bins  4/29/17      270.0       280.0      4\n",
              "1  24 inch bins   5/6/17      270.0       280.0      5\n",
              "2  24 inch bins  9/24/16      160.0       160.0      9\n",
              "3  24 inch bins  9/24/16      160.0       160.0      9\n",
              "4  24 inch bins  11/5/16       90.0       100.0     11"
            ]
          },
          "metadata": {},
          "execution_count": 24
        }
      ]
    },
    {
      "cell_type": "code",
      "metadata": {
        "colab": {
          "base_uri": "https://localhost:8080/"
        },
        "id": "fK60TkdZr-LB",
        "outputId": "6a228ad6-2e12-4f30-d2b8-75c230d3771d"
      },
      "source": [
        "#calculating the average price of pumpkin of a given month\n",
        "price = (pumpkins['Low Price'] + pumpkins['High Price'])/2\n",
        "month = pumpkins['Month']\n",
        "print(month)"
      ],
      "execution_count": 25,
      "outputs": [
        {
          "output_type": "stream",
          "name": "stdout",
          "text": [
            "0        4\n",
            "1        5\n",
            "2        9\n",
            "3        9\n",
            "4       11\n",
            "        ..\n",
            "1752     9\n",
            "1753     9\n",
            "1754     9\n",
            "1755     9\n",
            "1756     9\n",
            "Name: Month, Length: 1757, dtype: int64\n"
          ]
        }
      ]
    },
    {
      "cell_type": "code",
      "metadata": {
        "colab": {
          "base_uri": "https://localhost:8080/",
          "height": 206
        },
        "id": "d5SwoTm2sVO8",
        "outputId": "3ddb49ae-503f-4a6e-95e1-48e1c2c40451"
      },
      "source": [
        "#creating a new data frame \n",
        "new_pumpkins = pd.DataFrame({'Month': month,'Package': pumpkins['Package'],'Low Price': pumpkins['Low Price'],'High Price': pumpkins['High Price'], 'Price': price})\n",
        "new_pumpkins.head()"
      ],
      "execution_count": 26,
      "outputs": [
        {
          "output_type": "execute_result",
          "data": {
            "text/html": [
              "<div>\n",
              "<style scoped>\n",
              "    .dataframe tbody tr th:only-of-type {\n",
              "        vertical-align: middle;\n",
              "    }\n",
              "\n",
              "    .dataframe tbody tr th {\n",
              "        vertical-align: top;\n",
              "    }\n",
              "\n",
              "    .dataframe thead th {\n",
              "        text-align: right;\n",
              "    }\n",
              "</style>\n",
              "<table border=\"1\" class=\"dataframe\">\n",
              "  <thead>\n",
              "    <tr style=\"text-align: right;\">\n",
              "      <th></th>\n",
              "      <th>Month</th>\n",
              "      <th>Package</th>\n",
              "      <th>Low Price</th>\n",
              "      <th>High Price</th>\n",
              "      <th>Price</th>\n",
              "    </tr>\n",
              "  </thead>\n",
              "  <tbody>\n",
              "    <tr>\n",
              "      <th>0</th>\n",
              "      <td>4</td>\n",
              "      <td>24 inch bins</td>\n",
              "      <td>270.0</td>\n",
              "      <td>280.0</td>\n",
              "      <td>275.0</td>\n",
              "    </tr>\n",
              "    <tr>\n",
              "      <th>1</th>\n",
              "      <td>5</td>\n",
              "      <td>24 inch bins</td>\n",
              "      <td>270.0</td>\n",
              "      <td>280.0</td>\n",
              "      <td>275.0</td>\n",
              "    </tr>\n",
              "    <tr>\n",
              "      <th>2</th>\n",
              "      <td>9</td>\n",
              "      <td>24 inch bins</td>\n",
              "      <td>160.0</td>\n",
              "      <td>160.0</td>\n",
              "      <td>160.0</td>\n",
              "    </tr>\n",
              "    <tr>\n",
              "      <th>3</th>\n",
              "      <td>9</td>\n",
              "      <td>24 inch bins</td>\n",
              "      <td>160.0</td>\n",
              "      <td>160.0</td>\n",
              "      <td>160.0</td>\n",
              "    </tr>\n",
              "    <tr>\n",
              "      <th>4</th>\n",
              "      <td>11</td>\n",
              "      <td>24 inch bins</td>\n",
              "      <td>90.0</td>\n",
              "      <td>100.0</td>\n",
              "      <td>95.0</td>\n",
              "    </tr>\n",
              "  </tbody>\n",
              "</table>\n",
              "</div>"
            ],
            "text/plain": [
              "   Month       Package  Low Price  High Price  Price\n",
              "0      4  24 inch bins      270.0       280.0  275.0\n",
              "1      5  24 inch bins      270.0       280.0  275.0\n",
              "2      9  24 inch bins      160.0       160.0  160.0\n",
              "3      9  24 inch bins      160.0       160.0  160.0\n",
              "4     11  24 inch bins       90.0       100.0   95.0"
            ]
          },
          "metadata": {},
          "execution_count": 26
        }
      ]
    },
    {
      "cell_type": "code",
      "metadata": {
        "colab": {
          "base_uri": "https://localhost:8080/"
        },
        "id": "BA1DWidts3lr",
        "outputId": "6b285e04-b900-48bf-84cb-77ffa1c5f4e2"
      },
      "source": [
        "#Filtering only the pumpkins with 'bushel' in their package column\n",
        "pumpkins = pumpkins[pumpkins['Package'].str.contains('bushel',case=True,regex=True)]\n",
        "new_pumpkins = new_pumpkins[new_pumpkins['Package'].str.contains('bushel',case=True,regex=True)]\n",
        "print(pumpkins)"
      ],
      "execution_count": 27,
      "outputs": [
        {
          "output_type": "stream",
          "name": "stdout",
          "text": [
            "                   Package     Date  Low Price  High Price  Month\n",
            "70    1 1/9 bushel cartons  9/24/16      15.00        15.0      9\n",
            "71    1 1/9 bushel cartons  9/24/16      18.00        18.0      9\n",
            "72    1 1/9 bushel cartons  10/1/16      18.00        18.0     10\n",
            "73    1 1/9 bushel cartons  10/1/16      17.00        17.0     10\n",
            "74    1 1/9 bushel cartons  10/8/16      15.00        15.0     10\n",
            "...                    ...      ...        ...         ...    ...\n",
            "1738    1/2 bushel cartons  9/30/16      15.00        15.0      9\n",
            "1739    1/2 bushel cartons  9/30/16      13.75        15.0      9\n",
            "1740    1/2 bushel cartons  9/30/16      10.75        15.0      9\n",
            "1741    1/2 bushel cartons  9/30/16      12.00        12.0      9\n",
            "1742    1/2 bushel cartons  9/30/16      12.00        12.0      9\n",
            "\n",
            "[415 rows x 5 columns]\n"
          ]
        }
      ]
    },
    {
      "cell_type": "code",
      "metadata": {
        "colab": {
          "base_uri": "https://localhost:8080/",
          "height": 206
        },
        "id": "uWEYbAngtXQi",
        "outputId": "19736acf-dc4e-4911-c25c-4832b3fa4fdf"
      },
      "source": [
        "#As the bushel amount varies per row so we need to normalize the pricing to show pricing per bushel\n",
        "new_pumpkins.loc[new_pumpkins['Package'].str.contains('1 1/9'),'Price'] = price/(1 + 1/9)\n",
        "new_pumpkins.loc[new_pumpkins['Package'].str.contains('1/2'),'Price'] = price/(1/2)\n",
        "new_pumpkins.head()"
      ],
      "execution_count": 28,
      "outputs": [
        {
          "output_type": "execute_result",
          "data": {
            "text/html": [
              "<div>\n",
              "<style scoped>\n",
              "    .dataframe tbody tr th:only-of-type {\n",
              "        vertical-align: middle;\n",
              "    }\n",
              "\n",
              "    .dataframe tbody tr th {\n",
              "        vertical-align: top;\n",
              "    }\n",
              "\n",
              "    .dataframe thead th {\n",
              "        text-align: right;\n",
              "    }\n",
              "</style>\n",
              "<table border=\"1\" class=\"dataframe\">\n",
              "  <thead>\n",
              "    <tr style=\"text-align: right;\">\n",
              "      <th></th>\n",
              "      <th>Month</th>\n",
              "      <th>Package</th>\n",
              "      <th>Low Price</th>\n",
              "      <th>High Price</th>\n",
              "      <th>Price</th>\n",
              "    </tr>\n",
              "  </thead>\n",
              "  <tbody>\n",
              "    <tr>\n",
              "      <th>70</th>\n",
              "      <td>9</td>\n",
              "      <td>1 1/9 bushel cartons</td>\n",
              "      <td>15.0</td>\n",
              "      <td>15.0</td>\n",
              "      <td>13.5</td>\n",
              "    </tr>\n",
              "    <tr>\n",
              "      <th>71</th>\n",
              "      <td>9</td>\n",
              "      <td>1 1/9 bushel cartons</td>\n",
              "      <td>18.0</td>\n",
              "      <td>18.0</td>\n",
              "      <td>16.2</td>\n",
              "    </tr>\n",
              "    <tr>\n",
              "      <th>72</th>\n",
              "      <td>10</td>\n",
              "      <td>1 1/9 bushel cartons</td>\n",
              "      <td>18.0</td>\n",
              "      <td>18.0</td>\n",
              "      <td>16.2</td>\n",
              "    </tr>\n",
              "    <tr>\n",
              "      <th>73</th>\n",
              "      <td>10</td>\n",
              "      <td>1 1/9 bushel cartons</td>\n",
              "      <td>17.0</td>\n",
              "      <td>17.0</td>\n",
              "      <td>15.3</td>\n",
              "    </tr>\n",
              "    <tr>\n",
              "      <th>74</th>\n",
              "      <td>10</td>\n",
              "      <td>1 1/9 bushel cartons</td>\n",
              "      <td>15.0</td>\n",
              "      <td>15.0</td>\n",
              "      <td>13.5</td>\n",
              "    </tr>\n",
              "  </tbody>\n",
              "</table>\n",
              "</div>"
            ],
            "text/plain": [
              "    Month               Package  Low Price  High Price  Price\n",
              "70      9  1 1/9 bushel cartons       15.0        15.0   13.5\n",
              "71      9  1 1/9 bushel cartons       18.0        18.0   16.2\n",
              "72     10  1 1/9 bushel cartons       18.0        18.0   16.2\n",
              "73     10  1 1/9 bushel cartons       17.0        17.0   15.3\n",
              "74     10  1 1/9 bushel cartons       15.0        15.0   13.5"
            ]
          },
          "metadata": {},
          "execution_count": 28
        }
      ]
    },
    {
      "cell_type": "code",
      "metadata": {
        "id": "n-8lgptiu4R5"
      },
      "source": [
        "#Data visualization\n",
        "import matplotlib.pyplot as plt"
      ],
      "execution_count": 31,
      "outputs": []
    },
    {
      "cell_type": "code",
      "metadata": {
        "colab": {
          "base_uri": "https://localhost:8080/",
          "height": 265
        },
        "id": "6cxDp2Lkvd9o",
        "outputId": "d2c6c7a8-b16c-4dcd-fb99-f195732ad6fd"
      },
      "source": [
        "price = new_pumpkins.Price\n",
        "month = new_pumpkins.Month\n",
        "plt.scatter(price,month)\n",
        "plt.show()"
      ],
      "execution_count": 32,
      "outputs": [
        {
          "output_type": "display_data",
          "data": {
            "image/png": "[encoded data removed]",
            "text/plain": [
              "<Figure size 432x288 with 1 Axes>"
            ]
          },
          "metadata": {
            "needs_background": "light"
          }
        }
      ]
    },
    {
      "cell_type": "code",
      "metadata": {
        "colab": {
          "base_uri": "https://localhost:8080/",
          "height": 299
        },
        "id": "tKtj97O7vmz3",
        "outputId": "367fe1cb-8199-4186-ecce-6e602a114f2e"
      },
      "source": [
        "new_pumpkins.groupby(['Month'])['Price'].mean().plot(kind='bar')\n",
        "plt.ylabel(\"Pumpkin Price\")"
      ],
      "execution_count": 33,
      "outputs": [
        {
          "output_type": "execute_result",
          "data": {
            "text/plain": [
              "Text(0, 0.5, 'Pumpkin Price')"
            ]
          },
          "metadata": {},
          "execution_count": 33
        },
        {
          "output_type": "display_data",
          "data": {
            "image/png": "[encoded data removed]",
            "text/plain": [
              "<Figure size 432x288 with 1 Axes>"
            ]
          },
          "metadata": {
            "needs_background": "light"
          }
        }
      ]
    },
    {
      "cell_type": "code",
      "metadata": {
        "id": "hHksi8Z9wpOV"
      },
      "source": [
        "#visualization using seaborn\n",
        "import seaborn as sns"
      ],
      "execution_count": 34,
      "outputs": []
    },
    {
      "cell_type": "code",
      "metadata": {
        "colab": {
          "base_uri": "https://localhost:8080/",
          "height": 302
        },
        "id": "PKorf7phxAw-",
        "outputId": "18fd1104-0302-4075-9a9a-81d1d5ca2b0e"
      },
      "source": [
        "sns.set_theme(style=\"whitegrid\")\n",
        "sns.scatterplot(x=\"Price\",y=\"Month\",data=new_pumpkins)"
      ],
      "execution_count": 38,
      "outputs": [
        {
          "output_type": "execute_result",
          "data": {
            "text/plain": [
              "<matplotlib.axes._subplots.AxesSubplot at 0x7fa7b46bb3d0>"
            ]
          },
          "metadata": {},
          "execution_count": 38
        },
        {
          "output_type": "display_data",
          "data": {
            "image/png": "[encoded data removed]",
            "text/plain": [
              "<Figure size 432x288 with 1 Axes>"
            ]
          },
          "metadata": {}
        }
      ]
    },
    {
      "cell_type": "code",
      "metadata": {
        "colab": {
          "base_uri": "https://localhost:8080/",
          "height": 302
        },
        "id": "UrGLDbm6xTH8",
        "outputId": "849b7599-bd96-4bce-da51-dda76ee260a7"
      },
      "source": [
        "sns.barplot(data=new_pumpkins,x=\"Month\",y=\"Price\",color=\"b\")"
      ],
      "execution_count": 40,
      "outputs": [
        {
          "output_type": "execute_result",
          "data": {
            "text/plain": [
              "<matplotlib.axes._subplots.AxesSubplot at 0x7fa7b45f9290>"
            ]
          },
          "metadata": {},
          "execution_count": 40
        },
        {
          "output_type": "display_data",
          "data": {
            "image/png": "[encoded data removed]",
            "text/plain": [
              "<Figure size 432x288 with 1 Axes>"
            ]
          },
          "metadata": {}
        }
      ]
    },
    {
      "cell_type": "code",
      "metadata": {
        "id": "8tljHmHJyHWV"
      },
      "source": [
        ""
      ],
      "execution_count": null,
      "outputs": []
    }
  ]
}