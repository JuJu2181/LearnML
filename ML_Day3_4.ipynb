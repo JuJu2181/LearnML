{
  "nbformat": 4,
  "nbformat_minor": 0,
  "metadata": {
    "colab": {
      "name": "ML_Day3_4.ipynb",
      "provenance": [],
      "authorship_tag": "ABX9TyNSh0j45EwVaO/alNjkMwWE",
      "include_colab_link": true
    },
    "kernelspec": {
      "name": "python3",
      "display_name": "Python 3"
    },
    "language_info": {
      "name": "python"
    }
  },
  "cells": [
    {
      "cell_type": "markdown",
      "metadata": {
        "id": "view-in-github",
        "colab_type": "text"
      },
      "source": [
        "<a href=\"https://colab.research.google.com/github/JuJu2181/LearnML/blob/master/ML_Day3_4.ipynb\" target=\"_parent\"><img src=\"https://colab.research.google.com/assets/colab-badge.svg\" alt=\"Open In Colab\"/></a>"
      ]
    },
    {
      "cell_type": "markdown",
      "metadata": {
        "id": "wJrZuPayi7K_"
      },
      "source": [
        "## DAY 3: \n",
        "### Type 1: Linear Regression\n",
        "Linear regression uses a straight line to fit a linear data\n",
        "- Pumpkin Pricing "
      ]
    },
    {
      "cell_type": "code",
      "metadata": {
        "id": "18yHcqPviiHl",
        "colab": {
          "base_uri": "https://localhost:8080/",
          "height": 348
        },
        "outputId": "ab5cb56f-77fd-4cbc-fb9b-2184ca726cc0"
      },
      "source": [
        "import pandas as pd\n",
        "import numpy as np\n",
        "import matplotlib.pyplot as plt\n",
        "\n",
        "#reading data \n",
        "pumpkins  = pd.read_csv('https://raw.githubusercontent.com/JuJu2181/ML-For-Beginners/main/2-Regression/data/US-pumpkins.csv')\n",
        "pumpkins.head()"
      ],
      "execution_count": null,
      "outputs": [
        {
          "output_type": "execute_result",
          "data": {
            "text/html": [
              "<div>\n",
              "<style scoped>\n",
              "    .dataframe tbody tr th:only-of-type {\n",
              "        vertical-align: middle;\n",
              "    }\n",
              "\n",
              "    .dataframe tbody tr th {\n",
              "        vertical-align: top;\n",
              "    }\n",
              "\n",
              "    .dataframe thead th {\n",
              "        text-align: right;\n",
              "    }\n",
              "</style>\n",
              "<table border=\"1\" class=\"dataframe\">\n",
              "  <thead>\n",
              "    <tr style=\"text-align: right;\">\n",
              "      <th></th>\n",
              "      <th>City Name</th>\n",
              "      <th>Type</th>\n",
              "      <th>Package</th>\n",
              "      <th>Variety</th>\n",
              "      <th>Sub Variety</th>\n",
              "      <th>Grade</th>\n",
              "      <th>Date</th>\n",
              "      <th>Low Price</th>\n",
              "      <th>High Price</th>\n",
              "      <th>Mostly Low</th>\n",
              "      <th>Mostly High</th>\n",
              "      <th>Origin</th>\n",
              "      <th>Origin District</th>\n",
              "      <th>Item Size</th>\n",
              "      <th>Color</th>\n",
              "      <th>Environment</th>\n",
              "      <th>Unit of Sale</th>\n",
              "      <th>Quality</th>\n",
              "      <th>Condition</th>\n",
              "      <th>Appearance</th>\n",
              "      <th>Storage</th>\n",
              "      <th>Crop</th>\n",
              "      <th>Repack</th>\n",
              "      <th>Trans Mode</th>\n",
              "      <th>Unnamed: 24</th>\n",
              "      <th>Unnamed: 25</th>\n",
              "    </tr>\n",
              "  </thead>\n",
              "  <tbody>\n",
              "    <tr>\n",
              "      <th>0</th>\n",
              "      <td>BALTIMORE</td>\n",
              "      <td>NaN</td>\n",
              "      <td>24 inch bins</td>\n",
              "      <td>NaN</td>\n",
              "      <td>NaN</td>\n",
              "      <td>NaN</td>\n",
              "      <td>4/29/17</td>\n",
              "      <td>270.0</td>\n",
              "      <td>280.0</td>\n",
              "      <td>270.0</td>\n",
              "      <td>280.0</td>\n",
              "      <td>MARYLAND</td>\n",
              "      <td>NaN</td>\n",
              "      <td>lge</td>\n",
              "      <td>NaN</td>\n",
              "      <td>NaN</td>\n",
              "      <td>NaN</td>\n",
              "      <td>NaN</td>\n",
              "      <td>NaN</td>\n",
              "      <td>NaN</td>\n",
              "      <td>NaN</td>\n",
              "      <td>NaN</td>\n",
              "      <td>E</td>\n",
              "      <td>NaN</td>\n",
              "      <td>NaN</td>\n",
              "      <td>NaN</td>\n",
              "    </tr>\n",
              "    <tr>\n",
              "      <th>1</th>\n",
              "      <td>BALTIMORE</td>\n",
              "      <td>NaN</td>\n",
              "      <td>24 inch bins</td>\n",
              "      <td>NaN</td>\n",
              "      <td>NaN</td>\n",
              "      <td>NaN</td>\n",
              "      <td>5/6/17</td>\n",
              "      <td>270.0</td>\n",
              "      <td>280.0</td>\n",
              "      <td>270.0</td>\n",
              "      <td>280.0</td>\n",
              "      <td>MARYLAND</td>\n",
              "      <td>NaN</td>\n",
              "      <td>lge</td>\n",
              "      <td>NaN</td>\n",
              "      <td>NaN</td>\n",
              "      <td>NaN</td>\n",
              "      <td>NaN</td>\n",
              "      <td>NaN</td>\n",
              "      <td>NaN</td>\n",
              "      <td>NaN</td>\n",
              "      <td>NaN</td>\n",
              "      <td>E</td>\n",
              "      <td>NaN</td>\n",
              "      <td>NaN</td>\n",
              "      <td>NaN</td>\n",
              "    </tr>\n",
              "    <tr>\n",
              "      <th>2</th>\n",
              "      <td>BALTIMORE</td>\n",
              "      <td>NaN</td>\n",
              "      <td>24 inch bins</td>\n",
              "      <td>HOWDEN TYPE</td>\n",
              "      <td>NaN</td>\n",
              "      <td>NaN</td>\n",
              "      <td>9/24/16</td>\n",
              "      <td>160.0</td>\n",
              "      <td>160.0</td>\n",
              "      <td>160.0</td>\n",
              "      <td>160.0</td>\n",
              "      <td>DELAWARE</td>\n",
              "      <td>NaN</td>\n",
              "      <td>med</td>\n",
              "      <td>ORANGE</td>\n",
              "      <td>NaN</td>\n",
              "      <td>NaN</td>\n",
              "      <td>NaN</td>\n",
              "      <td>NaN</td>\n",
              "      <td>NaN</td>\n",
              "      <td>NaN</td>\n",
              "      <td>NaN</td>\n",
              "      <td>N</td>\n",
              "      <td>NaN</td>\n",
              "      <td>NaN</td>\n",
              "      <td>NaN</td>\n",
              "    </tr>\n",
              "    <tr>\n",
              "      <th>3</th>\n",
              "      <td>BALTIMORE</td>\n",
              "      <td>NaN</td>\n",
              "      <td>24 inch bins</td>\n",
              "      <td>HOWDEN TYPE</td>\n",
              "      <td>NaN</td>\n",
              "      <td>NaN</td>\n",
              "      <td>9/24/16</td>\n",
              "      <td>160.0</td>\n",
              "      <td>160.0</td>\n",
              "      <td>160.0</td>\n",
              "      <td>160.0</td>\n",
              "      <td>VIRGINIA</td>\n",
              "      <td>NaN</td>\n",
              "      <td>med</td>\n",
              "      <td>ORANGE</td>\n",
              "      <td>NaN</td>\n",
              "      <td>NaN</td>\n",
              "      <td>NaN</td>\n",
              "      <td>NaN</td>\n",
              "      <td>NaN</td>\n",
              "      <td>NaN</td>\n",
              "      <td>NaN</td>\n",
              "      <td>N</td>\n",
              "      <td>NaN</td>\n",
              "      <td>NaN</td>\n",
              "      <td>NaN</td>\n",
              "    </tr>\n",
              "    <tr>\n",
              "      <th>4</th>\n",
              "      <td>BALTIMORE</td>\n",
              "      <td>NaN</td>\n",
              "      <td>24 inch bins</td>\n",
              "      <td>HOWDEN TYPE</td>\n",
              "      <td>NaN</td>\n",
              "      <td>NaN</td>\n",
              "      <td>11/5/16</td>\n",
              "      <td>90.0</td>\n",
              "      <td>100.0</td>\n",
              "      <td>90.0</td>\n",
              "      <td>100.0</td>\n",
              "      <td>MARYLAND</td>\n",
              "      <td>NaN</td>\n",
              "      <td>lge</td>\n",
              "      <td>ORANGE</td>\n",
              "      <td>NaN</td>\n",
              "      <td>NaN</td>\n",
              "      <td>NaN</td>\n",
              "      <td>NaN</td>\n",
              "      <td>NaN</td>\n",
              "      <td>NaN</td>\n",
              "      <td>NaN</td>\n",
              "      <td>N</td>\n",
              "      <td>NaN</td>\n",
              "      <td>NaN</td>\n",
              "      <td>NaN</td>\n",
              "    </tr>\n",
              "  </tbody>\n",
              "</table>\n",
              "</div>"
            ],
            "text/plain": [
              "   City Name Type       Package  ... Trans Mode Unnamed: 24  Unnamed: 25\n",
              "0  BALTIMORE  NaN  24 inch bins  ...        NaN         NaN          NaN\n",
              "1  BALTIMORE  NaN  24 inch bins  ...        NaN         NaN          NaN\n",
              "2  BALTIMORE  NaN  24 inch bins  ...        NaN         NaN          NaN\n",
              "3  BALTIMORE  NaN  24 inch bins  ...        NaN         NaN          NaN\n",
              "4  BALTIMORE  NaN  24 inch bins  ...        NaN         NaN          NaN\n",
              "\n",
              "[5 rows x 26 columns]"
            ]
          },
          "metadata": {},
          "execution_count": 1
        }
      ]
    },
    {
      "cell_type": "code",
      "metadata": {
        "colab": {
          "base_uri": "https://localhost:8080/",
          "height": 206
        },
        "id": "YLAgz1_Eah_z",
        "outputId": "feaaa589-ce25-466d-be9b-fc76cc1d2deb"
      },
      "source": [
        "#extracting the pumpkins with package bushel\n",
        "pumpkins = pumpkins[pumpkins['Package'].str.contains('bushel',case=True,regex=True)]\n",
        "new_columns = ['Package','Variety','City Name','Month','Low Price','High Price','Date','City Num','Variety Num']\n",
        "#removing all unnecessary columns\n",
        "pumpkins = pumpkins.drop([c for c in pumpkins.columns if c not in new_columns],axis=1)\n",
        "#calculating the average price \n",
        "price = (pumpkins['Low Price']+pumpkins['High Price'])/2\n",
        "#extracting month fomr the date \n",
        "month = pd.DatetimeIndex(pumpkins['Date']).month\n",
        "\n",
        "new_pumpkins = pd.DataFrame({'Month': month, 'Variety': pumpkins['Variety'], 'City': pumpkins['City Name'], 'Package': pumpkins['Package'], 'Low Price': pumpkins['Low Price'],'High Price': pumpkins['High Price'], 'Price': price})\n",
        "#updating the price of the package based on 1 1/9 or 1/2\n",
        "new_pumpkins.loc[new_pumpkins['Package'].str.contains('1 1/9'),'Price'] = price/1.1\n",
        "new_pumpkins.loc[new_pumpkins['Package'].str.contains('1/2'),'Price'] = price*2\n",
        "new_pumpkins.head()"
      ],
      "execution_count": null,
      "outputs": [
        {
          "output_type": "execute_result",
          "data": {
            "text/html": [
              "<div>\n",
              "<style scoped>\n",
              "    .dataframe tbody tr th:only-of-type {\n",
              "        vertical-align: middle;\n",
              "    }\n",
              "\n",
              "    .dataframe tbody tr th {\n",
              "        vertical-align: top;\n",
              "    }\n",
              "\n",
              "    .dataframe thead th {\n",
              "        text-align: right;\n",
              "    }\n",
              "</style>\n",
              "<table border=\"1\" class=\"dataframe\">\n",
              "  <thead>\n",
              "    <tr style=\"text-align: right;\">\n",
              "      <th></th>\n",
              "      <th>Month</th>\n",
              "      <th>Variety</th>\n",
              "      <th>City</th>\n",
              "      <th>Package</th>\n",
              "      <th>Low Price</th>\n",
              "      <th>High Price</th>\n",
              "      <th>Price</th>\n",
              "    </tr>\n",
              "  </thead>\n",
              "  <tbody>\n",
              "    <tr>\n",
              "      <th>70</th>\n",
              "      <td>9</td>\n",
              "      <td>PIE TYPE</td>\n",
              "      <td>BALTIMORE</td>\n",
              "      <td>1 1/9 bushel cartons</td>\n",
              "      <td>15.0</td>\n",
              "      <td>15.0</td>\n",
              "      <td>13.636364</td>\n",
              "    </tr>\n",
              "    <tr>\n",
              "      <th>71</th>\n",
              "      <td>9</td>\n",
              "      <td>PIE TYPE</td>\n",
              "      <td>BALTIMORE</td>\n",
              "      <td>1 1/9 bushel cartons</td>\n",
              "      <td>18.0</td>\n",
              "      <td>18.0</td>\n",
              "      <td>16.363636</td>\n",
              "    </tr>\n",
              "    <tr>\n",
              "      <th>72</th>\n",
              "      <td>10</td>\n",
              "      <td>PIE TYPE</td>\n",
              "      <td>BALTIMORE</td>\n",
              "      <td>1 1/9 bushel cartons</td>\n",
              "      <td>18.0</td>\n",
              "      <td>18.0</td>\n",
              "      <td>16.363636</td>\n",
              "    </tr>\n",
              "    <tr>\n",
              "      <th>73</th>\n",
              "      <td>10</td>\n",
              "      <td>PIE TYPE</td>\n",
              "      <td>BALTIMORE</td>\n",
              "      <td>1 1/9 bushel cartons</td>\n",
              "      <td>17.0</td>\n",
              "      <td>17.0</td>\n",
              "      <td>15.454545</td>\n",
              "    </tr>\n",
              "    <tr>\n",
              "      <th>74</th>\n",
              "      <td>10</td>\n",
              "      <td>PIE TYPE</td>\n",
              "      <td>BALTIMORE</td>\n",
              "      <td>1 1/9 bushel cartons</td>\n",
              "      <td>15.0</td>\n",
              "      <td>15.0</td>\n",
              "      <td>13.636364</td>\n",
              "    </tr>\n",
              "  </tbody>\n",
              "</table>\n",
              "</div>"
            ],
            "text/plain": [
              "    Month   Variety       City  ... Low Price  High Price      Price\n",
              "70      9  PIE TYPE  BALTIMORE  ...      15.0        15.0  13.636364\n",
              "71      9  PIE TYPE  BALTIMORE  ...      18.0        18.0  16.363636\n",
              "72     10  PIE TYPE  BALTIMORE  ...      18.0        18.0  16.363636\n",
              "73     10  PIE TYPE  BALTIMORE  ...      17.0        17.0  15.454545\n",
              "74     10  PIE TYPE  BALTIMORE  ...      15.0        15.0  13.636364\n",
              "\n",
              "[5 rows x 7 columns]"
            ]
          },
          "metadata": {},
          "execution_count": 3
        }
      ]
    },
    {
      "cell_type": "code",
      "metadata": {
        "colab": {
          "base_uri": "https://localhost:8080/",
          "height": 282
        },
        "id": "6pV7wRZ5dADD",
        "outputId": "59c09afc-864b-4ef2-ba49-b186f8eaef03"
      },
      "source": [
        "#basic scatterplot of the data\n",
        "plt.scatter('Month','Price',data=new_pumpkins)"
      ],
      "execution_count": null,
      "outputs": [
        {
          "output_type": "execute_result",
          "data": {
            "text/plain": [
              "<matplotlib.collections.PathCollection at 0x7f25fe607bd0>"
            ]
          },
          "metadata": {},
          "execution_count": 4
        },
        {
          "output_type": "display_data",
          "data": {
            "image/png": "[encoded data removed]",
            "text/plain": [
              "<Figure size 432x288 with 1 Axes>"
            ]
          },
          "metadata": {
            "needs_background": "light"
          }
        }
      ]
    },
    {
      "cell_type": "code",
      "metadata": {
        "colab": {
          "base_uri": "https://localhost:8080/",
          "height": 206
        },
        "id": "FM24VIk2dRgM",
        "outputId": "af159d21-3647-491c-c084-76b972989428"
      },
      "source": [
        "#Using Scikit Learn to predict which package of pumpkin will have best pumpkin price \n",
        "from sklearn.preprocessing import LabelEncoder\n",
        "# converting all strings to numeric values\n",
        "new_pumpkins.iloc[:,0:-1] = new_pumpkins.iloc[:,0:-1].apply(LabelEncoder().fit_transform)\n",
        "new_pumpkins.head()"
      ],
      "execution_count": null,
      "outputs": [
        {
          "output_type": "execute_result",
          "data": {
            "text/html": [
              "<div>\n",
              "<style scoped>\n",
              "    .dataframe tbody tr th:only-of-type {\n",
              "        vertical-align: middle;\n",
              "    }\n",
              "\n",
              "    .dataframe tbody tr th {\n",
              "        vertical-align: top;\n",
              "    }\n",
              "\n",
              "    .dataframe thead th {\n",
              "        text-align: right;\n",
              "    }\n",
              "</style>\n",
              "<table border=\"1\" class=\"dataframe\">\n",
              "  <thead>\n",
              "    <tr style=\"text-align: right;\">\n",
              "      <th></th>\n",
              "      <th>Month</th>\n",
              "      <th>Variety</th>\n",
              "      <th>City</th>\n",
              "      <th>Package</th>\n",
              "      <th>Low Price</th>\n",
              "      <th>High Price</th>\n",
              "      <th>Price</th>\n",
              "    </tr>\n",
              "  </thead>\n",
              "  <tbody>\n",
              "    <tr>\n",
              "      <th>70</th>\n",
              "      <td>1</td>\n",
              "      <td>3</td>\n",
              "      <td>1</td>\n",
              "      <td>0</td>\n",
              "      <td>5</td>\n",
              "      <td>3</td>\n",
              "      <td>13.636364</td>\n",
              "    </tr>\n",
              "    <tr>\n",
              "      <th>71</th>\n",
              "      <td>1</td>\n",
              "      <td>3</td>\n",
              "      <td>1</td>\n",
              "      <td>0</td>\n",
              "      <td>10</td>\n",
              "      <td>7</td>\n",
              "      <td>16.363636</td>\n",
              "    </tr>\n",
              "    <tr>\n",
              "      <th>72</th>\n",
              "      <td>2</td>\n",
              "      <td>3</td>\n",
              "      <td>1</td>\n",
              "      <td>0</td>\n",
              "      <td>10</td>\n",
              "      <td>7</td>\n",
              "      <td>16.363636</td>\n",
              "    </tr>\n",
              "    <tr>\n",
              "      <th>73</th>\n",
              "      <td>2</td>\n",
              "      <td>3</td>\n",
              "      <td>1</td>\n",
              "      <td>0</td>\n",
              "      <td>9</td>\n",
              "      <td>6</td>\n",
              "      <td>15.454545</td>\n",
              "    </tr>\n",
              "    <tr>\n",
              "      <th>74</th>\n",
              "      <td>2</td>\n",
              "      <td>3</td>\n",
              "      <td>1</td>\n",
              "      <td>0</td>\n",
              "      <td>5</td>\n",
              "      <td>3</td>\n",
              "      <td>13.636364</td>\n",
              "    </tr>\n",
              "  </tbody>\n",
              "</table>\n",
              "</div>"
            ],
            "text/plain": [
              "    Month  Variety  City  Package  Low Price  High Price      Price\n",
              "70      1        3     1        0          5           3  13.636364\n",
              "71      1        3     1        0         10           7  16.363636\n",
              "72      2        3     1        0         10           7  16.363636\n",
              "73      2        3     1        0          9           6  15.454545\n",
              "74      2        3     1        0          5           3  13.636364"
            ]
          },
          "metadata": {},
          "execution_count": 5
        }
      ]
    },
    {
      "cell_type": "code",
      "metadata": {
        "colab": {
          "base_uri": "https://localhost:8080/"
        },
        "id": "ju7L3IUzjg7_",
        "outputId": "41b2b307-6ecd-48e8-87e0-dae2e29a1e90"
      },
      "source": [
        "#drop all null data \n",
        "new_pumpkins.dropna(inplace=True)\n",
        "new_pumpkins.info()"
      ],
      "execution_count": null,
      "outputs": [
        {
          "output_type": "stream",
          "name": "stdout",
          "text": [
            "<class 'pandas.core.frame.DataFrame'>\n",
            "Int64Index: 415 entries, 70 to 1742\n",
            "Data columns (total 7 columns):\n",
            " #   Column      Non-Null Count  Dtype  \n",
            "---  ------      --------------  -----  \n",
            " 0   Month       415 non-null    int64  \n",
            " 1   Variety     415 non-null    int64  \n",
            " 2   City        415 non-null    int64  \n",
            " 3   Package     415 non-null    int64  \n",
            " 4   Low Price   415 non-null    int64  \n",
            " 5   High Price  415 non-null    int64  \n",
            " 6   Price       415 non-null    float64\n",
            "dtypes: float64(1), int64(6)\n",
            "memory usage: 25.9 KB\n"
          ]
        }
      ]
    },
    {
      "cell_type": "code",
      "metadata": {
        "colab": {
          "base_uri": "https://localhost:8080/",
          "height": 424
        },
        "id": "DggCL-pAj-fN",
        "outputId": "1cd268e5-50be-4694-f5be-c0ffb9964cb8"
      },
      "source": [
        "#creating a dataframe from only package and price as we are building a model to predict price of a package \n",
        "new_columns = ['Package','Price']\n",
        "lin_pumpkins = new_pumpkins.drop([c for  c in new_pumpkins.columns if c not in new_columns],axis='columns')\n",
        "lin_pumpkins"
      ],
      "execution_count": null,
      "outputs": [
        {
          "output_type": "execute_result",
          "data": {
            "text/html": [
              "<div>\n",
              "<style scoped>\n",
              "    .dataframe tbody tr th:only-of-type {\n",
              "        vertical-align: middle;\n",
              "    }\n",
              "\n",
              "    .dataframe tbody tr th {\n",
              "        vertical-align: top;\n",
              "    }\n",
              "\n",
              "    .dataframe thead th {\n",
              "        text-align: right;\n",
              "    }\n",
              "</style>\n",
              "<table border=\"1\" class=\"dataframe\">\n",
              "  <thead>\n",
              "    <tr style=\"text-align: right;\">\n",
              "      <th></th>\n",
              "      <th>Package</th>\n",
              "      <th>Price</th>\n",
              "    </tr>\n",
              "  </thead>\n",
              "  <tbody>\n",
              "    <tr>\n",
              "      <th>70</th>\n",
              "      <td>0</td>\n",
              "      <td>13.636364</td>\n",
              "    </tr>\n",
              "    <tr>\n",
              "      <th>71</th>\n",
              "      <td>0</td>\n",
              "      <td>16.363636</td>\n",
              "    </tr>\n",
              "    <tr>\n",
              "      <th>72</th>\n",
              "      <td>0</td>\n",
              "      <td>16.363636</td>\n",
              "    </tr>\n",
              "    <tr>\n",
              "      <th>73</th>\n",
              "      <td>0</td>\n",
              "      <td>15.454545</td>\n",
              "    </tr>\n",
              "    <tr>\n",
              "      <th>74</th>\n",
              "      <td>0</td>\n",
              "      <td>13.636364</td>\n",
              "    </tr>\n",
              "    <tr>\n",
              "      <th>...</th>\n",
              "      <td>...</td>\n",
              "      <td>...</td>\n",
              "    </tr>\n",
              "    <tr>\n",
              "      <th>1738</th>\n",
              "      <td>2</td>\n",
              "      <td>30.000000</td>\n",
              "    </tr>\n",
              "    <tr>\n",
              "      <th>1739</th>\n",
              "      <td>2</td>\n",
              "      <td>28.750000</td>\n",
              "    </tr>\n",
              "    <tr>\n",
              "      <th>1740</th>\n",
              "      <td>2</td>\n",
              "      <td>25.750000</td>\n",
              "    </tr>\n",
              "    <tr>\n",
              "      <th>1741</th>\n",
              "      <td>2</td>\n",
              "      <td>24.000000</td>\n",
              "    </tr>\n",
              "    <tr>\n",
              "      <th>1742</th>\n",
              "      <td>2</td>\n",
              "      <td>24.000000</td>\n",
              "    </tr>\n",
              "  </tbody>\n",
              "</table>\n",
              "<p>415 rows × 2 columns</p>\n",
              "</div>"
            ],
            "text/plain": [
              "      Package      Price\n",
              "70          0  13.636364\n",
              "71          0  16.363636\n",
              "72          0  16.363636\n",
              "73          0  15.454545\n",
              "74          0  13.636364\n",
              "...       ...        ...\n",
              "1738        2  30.000000\n",
              "1739        2  28.750000\n",
              "1740        2  25.750000\n",
              "1741        2  24.000000\n",
              "1742        2  24.000000\n",
              "\n",
              "[415 rows x 2 columns]"
            ]
          },
          "metadata": {},
          "execution_count": 8
        }
      ]
    },
    {
      "cell_type": "code",
      "metadata": {
        "id": "wl1LRgsHkVp8"
      },
      "source": [
        "#Assiging X and y to feature and label \n",
        "X = lin_pumpkins.values[:,:1]\n",
        "y = lin_pumpkins.values[:,1:2]"
      ],
      "execution_count": null,
      "outputs": []
    },
    {
      "cell_type": "code",
      "metadata": {
        "colab": {
          "base_uri": "https://localhost:8080/"
        },
        "id": "oCa5iq2Lk9o3",
        "outputId": "ce83e1b4-59d1-49ec-c089-edbffd62c6ae"
      },
      "source": [
        "#building regression model using scikit learn \n",
        "from sklearn.linear_model import LinearRegression\n",
        "from sklearn.metrics import r2_score, mean_squared_error, mean_absolute_error\n",
        "from sklearn.model_selection import train_test_split\n",
        "\n",
        "#splitting the data for training and testing \n",
        "X_train, X_test, y_train, y_test = train_test_split(X,y,test_size=0.2,random_state=0)\n",
        "#linear regression model\n",
        "lin_reg = LinearRegression()\n",
        "#fitting the model using training data \n",
        "lin_reg.fit(X_train,y_train)\n",
        "\n",
        "#using the model to predict values of y based on test values of X\n",
        "prediction = lin_reg.predict(X_test)\n",
        "print(prediction)\n",
        "\n",
        "#calculating accuracy score\n",
        "accuracy_score = lin_reg.score(X_train,y_train)\n",
        "print('Model Accuracy: ',accuracy_score)"
      ],
      "execution_count": null,
      "outputs": [
        {
          "output_type": "stream",
          "name": "stdout",
          "text": [
            "[[34.33429787]\n",
            " [20.20144037]\n",
            " [39.04525038]\n",
            " [39.04525038]\n",
            " [24.91239287]\n",
            " [24.91239287]\n",
            " [20.20144037]\n",
            " [20.20144037]\n",
            " [20.20144037]\n",
            " [29.62334537]\n",
            " [29.62334537]\n",
            " [29.62334537]\n",
            " [29.62334537]\n",
            " [29.62334537]\n",
            " [29.62334537]\n",
            " [20.20144037]\n",
            " [20.20144037]\n",
            " [20.20144037]\n",
            " [20.20144037]\n",
            " [29.62334537]\n",
            " [29.62334537]\n",
            " [29.62334537]\n",
            " [34.33429787]\n",
            " [20.20144037]\n",
            " [20.20144037]\n",
            " [20.20144037]\n",
            " [29.62334537]\n",
            " [29.62334537]\n",
            " [20.20144037]\n",
            " [29.62334537]\n",
            " [29.62334537]\n",
            " [29.62334537]\n",
            " [29.62334537]\n",
            " [20.20144037]\n",
            " [39.04525038]\n",
            " [29.62334537]\n",
            " [29.62334537]\n",
            " [20.20144037]\n",
            " [24.91239287]\n",
            " [29.62334537]\n",
            " [34.33429787]\n",
            " [20.20144037]\n",
            " [39.04525038]\n",
            " [34.33429787]\n",
            " [29.62334537]\n",
            " [20.20144037]\n",
            " [29.62334537]\n",
            " [29.62334537]\n",
            " [29.62334537]\n",
            " [20.20144037]\n",
            " [29.62334537]\n",
            " [20.20144037]\n",
            " [20.20144037]\n",
            " [29.62334537]\n",
            " [20.20144037]\n",
            " [39.04525038]\n",
            " [29.62334537]\n",
            " [20.20144037]\n",
            " [29.62334537]\n",
            " [39.04525038]\n",
            " [29.62334537]\n",
            " [24.91239287]\n",
            " [29.62334537]\n",
            " [20.20144037]\n",
            " [20.20144037]\n",
            " [29.62334537]\n",
            " [29.62334537]\n",
            " [29.62334537]\n",
            " [29.62334537]\n",
            " [29.62334537]\n",
            " [20.20144037]\n",
            " [20.20144037]\n",
            " [29.62334537]\n",
            " [29.62334537]\n",
            " [20.20144037]\n",
            " [29.62334537]\n",
            " [20.20144037]\n",
            " [29.62334537]\n",
            " [29.62334537]\n",
            " [29.62334537]\n",
            " [20.20144037]\n",
            " [20.20144037]\n",
            " [24.91239287]]\n",
            "Model Accuracy:  0.3315342327998989\n"
          ]
        }
      ]
    },
    {
      "cell_type": "markdown",
      "metadata": {
        "id": "UhGhzVJrmeZG"
      },
      "source": [
        "Here the low accuracy of the model is because of less correlation in the data"
      ]
    },
    {
      "cell_type": "code",
      "metadata": {
        "colab": {
          "base_uri": "https://localhost:8080/",
          "height": 295
        },
        "id": "Pmo2YLG3l8Id",
        "outputId": "d4a42527-4830-453f-ce97-7881c9cd917d"
      },
      "source": [
        "#visualizing the line that's drawn in the process\n",
        "plt.scatter(X_test,y_test,color='blue')\n",
        "plt.plot(X_test,prediction,color='red',linewidth=2)\n",
        "\n",
        "plt.xlabel('Package')\n",
        "plt.ylabel('Price')\n",
        "plt.title('Predicting the price of pumpkin based on the package')\n",
        "\n",
        "plt.show()"
      ],
      "execution_count": null,
      "outputs": [
        {
          "output_type": "display_data",
          "data": {
            "image/png": "[encoded data removed]",
            "text/plain": [
              "<Figure size 432x288 with 1 Axes>"
            ]
          },
          "metadata": {
            "needs_background": "light"
          }
        }
      ]
    },
    {
      "cell_type": "code",
      "metadata": {
        "colab": {
          "base_uri": "https://localhost:8080/"
        },
        "id": "x5b--OdnmZ5M",
        "outputId": "6bbef387-2dcd-440a-d382-0b1f80609269"
      },
      "source": [
        "#testing the model against a hypothetical variety\n",
        "lin_reg.predict(np.array([[2.75]]))"
      ],
      "execution_count": null,
      "outputs": [
        {
          "output_type": "execute_result",
          "data": {
            "text/plain": [
              "array([[33.15655975]])"
            ]
          },
          "metadata": {},
          "execution_count": 13
        }
      ]
    },
    {
      "cell_type": "code",
      "metadata": {
        "colab": {
          "base_uri": "https://localhost:8080/"
        },
        "id": "hCO24K85mtJv",
        "outputId": "728409ff-5cab-4f80-9c37-4b531bfc9f5d"
      },
      "source": [
        "#checking the metrics off the model\n",
        "print('MAE: ',mean_absolute_error(y_test,prediction))\n",
        "print('MSE: ',mean_squared_error(y_test,prediction))\n",
        "print('R2 Score: ',r2_score(y_test,prediction))\n"
      ],
      "execution_count": null,
      "outputs": [
        {
          "output_type": "stream",
          "name": "stdout",
          "text": [
            "MAE:  6.548360965286833\n",
            "MSE:  61.80385495574707\n",
            "R2 Score:  0.4681102208278508\n"
          ]
        }
      ]
    },
    {
      "cell_type": "markdown",
      "metadata": {
        "id": "rJAvWtxSoA6l"
      },
      "source": [
        "### Type 2: Polynomial Regression\n",
        "Polynomial regression uses curved line to best fit non linear data"
      ]
    },
    {
      "cell_type": "code",
      "metadata": {
        "colab": {
          "base_uri": "https://localhost:8080/",
          "height": 424
        },
        "id": "BFqOjWPOnK0o",
        "outputId": "2b666655-36e1-4094-d036-cb1fcabb8294"
      },
      "source": [
        "#recreating the dataframe from original pumpkin data \n",
        "new_columns = ['Variety','Package','City','Month','Price']\n",
        "poly_pumpkins = new_pumpkins.drop([c for c in new_pumpkins.columns if c not in new_columns],axis=1)\n",
        "poly_pumpkins"
      ],
      "execution_count": null,
      "outputs": [
        {
          "output_type": "execute_result",
          "data": {
            "text/html": [
              "<div>\n",
              "<style scoped>\n",
              "    .dataframe tbody tr th:only-of-type {\n",
              "        vertical-align: middle;\n",
              "    }\n",
              "\n",
              "    .dataframe tbody tr th {\n",
              "        vertical-align: top;\n",
              "    }\n",
              "\n",
              "    .dataframe thead th {\n",
              "        text-align: right;\n",
              "    }\n",
              "</style>\n",
              "<table border=\"1\" class=\"dataframe\">\n",
              "  <thead>\n",
              "    <tr style=\"text-align: right;\">\n",
              "      <th></th>\n",
              "      <th>Month</th>\n",
              "      <th>Variety</th>\n",
              "      <th>City</th>\n",
              "      <th>Package</th>\n",
              "      <th>Price</th>\n",
              "    </tr>\n",
              "  </thead>\n",
              "  <tbody>\n",
              "    <tr>\n",
              "      <th>70</th>\n",
              "      <td>1</td>\n",
              "      <td>3</td>\n",
              "      <td>1</td>\n",
              "      <td>0</td>\n",
              "      <td>13.636364</td>\n",
              "    </tr>\n",
              "    <tr>\n",
              "      <th>71</th>\n",
              "      <td>1</td>\n",
              "      <td>3</td>\n",
              "      <td>1</td>\n",
              "      <td>0</td>\n",
              "      <td>16.363636</td>\n",
              "    </tr>\n",
              "    <tr>\n",
              "      <th>72</th>\n",
              "      <td>2</td>\n",
              "      <td>3</td>\n",
              "      <td>1</td>\n",
              "      <td>0</td>\n",
              "      <td>16.363636</td>\n",
              "    </tr>\n",
              "    <tr>\n",
              "      <th>73</th>\n",
              "      <td>2</td>\n",
              "      <td>3</td>\n",
              "      <td>1</td>\n",
              "      <td>0</td>\n",
              "      <td>15.454545</td>\n",
              "    </tr>\n",
              "    <tr>\n",
              "      <th>74</th>\n",
              "      <td>2</td>\n",
              "      <td>3</td>\n",
              "      <td>1</td>\n",
              "      <td>0</td>\n",
              "      <td>13.636364</td>\n",
              "    </tr>\n",
              "    <tr>\n",
              "      <th>...</th>\n",
              "      <td>...</td>\n",
              "      <td>...</td>\n",
              "      <td>...</td>\n",
              "      <td>...</td>\n",
              "      <td>...</td>\n",
              "    </tr>\n",
              "    <tr>\n",
              "      <th>1738</th>\n",
              "      <td>1</td>\n",
              "      <td>1</td>\n",
              "      <td>9</td>\n",
              "      <td>2</td>\n",
              "      <td>30.000000</td>\n",
              "    </tr>\n",
              "    <tr>\n",
              "      <th>1739</th>\n",
              "      <td>1</td>\n",
              "      <td>1</td>\n",
              "      <td>9</td>\n",
              "      <td>2</td>\n",
              "      <td>28.750000</td>\n",
              "    </tr>\n",
              "    <tr>\n",
              "      <th>1740</th>\n",
              "      <td>1</td>\n",
              "      <td>1</td>\n",
              "      <td>9</td>\n",
              "      <td>2</td>\n",
              "      <td>25.750000</td>\n",
              "    </tr>\n",
              "    <tr>\n",
              "      <th>1741</th>\n",
              "      <td>1</td>\n",
              "      <td>1</td>\n",
              "      <td>9</td>\n",
              "      <td>2</td>\n",
              "      <td>24.000000</td>\n",
              "    </tr>\n",
              "    <tr>\n",
              "      <th>1742</th>\n",
              "      <td>1</td>\n",
              "      <td>1</td>\n",
              "      <td>9</td>\n",
              "      <td>2</td>\n",
              "      <td>24.000000</td>\n",
              "    </tr>\n",
              "  </tbody>\n",
              "</table>\n",
              "<p>415 rows × 5 columns</p>\n",
              "</div>"
            ],
            "text/plain": [
              "      Month  Variety  City  Package      Price\n",
              "70        1        3     1        0  13.636364\n",
              "71        1        3     1        0  16.363636\n",
              "72        2        3     1        0  16.363636\n",
              "73        2        3     1        0  15.454545\n",
              "74        2        3     1        0  13.636364\n",
              "...     ...      ...   ...      ...        ...\n",
              "1738      1        1     9        2  30.000000\n",
              "1739      1        1     9        2  28.750000\n",
              "1740      1        1     9        2  25.750000\n",
              "1741      1        1     9        2  24.000000\n",
              "1742      1        1     9        2  24.000000\n",
              "\n",
              "[415 rows x 5 columns]"
            ]
          },
          "metadata": {},
          "execution_count": 23
        }
      ]
    },
    {
      "cell_type": "markdown",
      "metadata": {
        "id": "AU0Jgju6pLaR"
      },
      "source": [
        "To visualize the correlations between the data in dataframes is by using the coolwarm chart"
      ]
    },
    {
      "cell_type": "code",
      "metadata": {
        "colab": {
          "base_uri": "https://localhost:8080/",
          "height": 206
        },
        "id": "Gdm9kDJspGuD",
        "outputId": "acf43282-6fe1-4230-9fda-9dbb34ba4141"
      },
      "source": [
        "#Using coolwarm chart for visualization\n",
        "corr = poly_pumpkins.corr()\n",
        "corr.style.background_gradient(cmap='coolwarm')"
      ],
      "execution_count": null,
      "outputs": [
        {
          "output_type": "execute_result",
          "data": {
            "text/html": [
              "<style  type=\"text/css\" >\n",
              "#T_e57580c4_46d5_11ec_bffa_0242ac1c0002row0_col0,#T_e57580c4_46d5_11ec_bffa_0242ac1c0002row1_col1,#T_e57580c4_46d5_11ec_bffa_0242ac1c0002row2_col2,#T_e57580c4_46d5_11ec_bffa_0242ac1c0002row3_col3,#T_e57580c4_46d5_11ec_bffa_0242ac1c0002row4_col4{\n",
              "            background-color:  #b40426;\n",
              "            color:  #f1f1f1;\n",
              "        }#T_e57580c4_46d5_11ec_bffa_0242ac1c0002row0_col1{\n",
              "            background-color:  #ead4c8;\n",
              "            color:  #000000;\n",
              "        }#T_e57580c4_46d5_11ec_bffa_0242ac1c0002row0_col2{\n",
              "            background-color:  #4961d2;\n",
              "            color:  #f1f1f1;\n",
              "        }#T_e57580c4_46d5_11ec_bffa_0242ac1c0002row0_col3{\n",
              "            background-color:  #9bbcff;\n",
              "            color:  #000000;\n",
              "        }#T_e57580c4_46d5_11ec_bffa_0242ac1c0002row0_col4{\n",
              "            background-color:  #bbd1f8;\n",
              "            color:  #000000;\n",
              "        }#T_e57580c4_46d5_11ec_bffa_0242ac1c0002row1_col0{\n",
              "            background-color:  #9fbfff;\n",
              "            color:  #000000;\n",
              "        }#T_e57580c4_46d5_11ec_bffa_0242ac1c0002row1_col2,#T_e57580c4_46d5_11ec_bffa_0242ac1c0002row1_col3,#T_e57580c4_46d5_11ec_bffa_0242ac1c0002row1_col4,#T_e57580c4_46d5_11ec_bffa_0242ac1c0002row2_col0,#T_e57580c4_46d5_11ec_bffa_0242ac1c0002row4_col1{\n",
              "            background-color:  #3b4cc0;\n",
              "            color:  #f1f1f1;\n",
              "        }#T_e57580c4_46d5_11ec_bffa_0242ac1c0002row2_col1{\n",
              "            background-color:  #a9c6fd;\n",
              "            color:  #000000;\n",
              "        }#T_e57580c4_46d5_11ec_bffa_0242ac1c0002row2_col3{\n",
              "            background-color:  #edd2c3;\n",
              "            color:  #000000;\n",
              "        }#T_e57580c4_46d5_11ec_bffa_0242ac1c0002row2_col4{\n",
              "            background-color:  #f5c0a7;\n",
              "            color:  #000000;\n",
              "        }#T_e57580c4_46d5_11ec_bffa_0242ac1c0002row3_col0{\n",
              "            background-color:  #455cce;\n",
              "            color:  #f1f1f1;\n",
              "        }#T_e57580c4_46d5_11ec_bffa_0242ac1c0002row3_col1{\n",
              "            background-color:  #6485ec;\n",
              "            color:  #000000;\n",
              "        }#T_e57580c4_46d5_11ec_bffa_0242ac1c0002row3_col2{\n",
              "            background-color:  #ccd9ed;\n",
              "            color:  #000000;\n",
              "        }#T_e57580c4_46d5_11ec_bffa_0242ac1c0002row3_col4{\n",
              "            background-color:  #f08a6c;\n",
              "            color:  #000000;\n",
              "        }#T_e57580c4_46d5_11ec_bffa_0242ac1c0002row4_col0{\n",
              "            background-color:  #445acc;\n",
              "            color:  #f1f1f1;\n",
              "        }#T_e57580c4_46d5_11ec_bffa_0242ac1c0002row4_col2{\n",
              "            background-color:  #d2dbe8;\n",
              "            color:  #000000;\n",
              "        }#T_e57580c4_46d5_11ec_bffa_0242ac1c0002row4_col3{\n",
              "            background-color:  #f39778;\n",
              "            color:  #000000;\n",
              "        }</style><table id=\"T_e57580c4_46d5_11ec_bffa_0242ac1c0002\" class=\"dataframe\"><thead>    <tr>        <th class=\"blank level0\" ></th>        <th class=\"col_heading level0 col0\" >Month</th>        <th class=\"col_heading level0 col1\" >Variety</th>        <th class=\"col_heading level0 col2\" >City</th>        <th class=\"col_heading level0 col3\" >Package</th>        <th class=\"col_heading level0 col4\" >Price</th>    </tr></thead><tbody>\n",
              "                <tr>\n",
              "                        <th id=\"T_e57580c4_46d5_11ec_bffa_0242ac1c0002level0_row0\" class=\"row_heading level0 row0\" >Month</th>\n",
              "                        <td id=\"T_e57580c4_46d5_11ec_bffa_0242ac1c0002row0_col0\" class=\"data row0 col0\" >1.000000</td>\n",
              "                        <td id=\"T_e57580c4_46d5_11ec_bffa_0242ac1c0002row0_col1\" class=\"data row0 col1\" >0.171330</td>\n",
              "                        <td id=\"T_e57580c4_46d5_11ec_bffa_0242ac1c0002row0_col2\" class=\"data row0 col2\" >-0.188728</td>\n",
              "                        <td id=\"T_e57580c4_46d5_11ec_bffa_0242ac1c0002row0_col3\" class=\"data row0 col3\" >-0.144847</td>\n",
              "                        <td id=\"T_e57580c4_46d5_11ec_bffa_0242ac1c0002row0_col4\" class=\"data row0 col4\" >-0.148783</td>\n",
              "            </tr>\n",
              "            <tr>\n",
              "                        <th id=\"T_e57580c4_46d5_11ec_bffa_0242ac1c0002level0_row1\" class=\"row_heading level0 row1\" >Variety</th>\n",
              "                        <td id=\"T_e57580c4_46d5_11ec_bffa_0242ac1c0002row1_col0\" class=\"data row1 col0\" >0.171330</td>\n",
              "                        <td id=\"T_e57580c4_46d5_11ec_bffa_0242ac1c0002row1_col1\" class=\"data row1 col1\" >1.000000</td>\n",
              "                        <td id=\"T_e57580c4_46d5_11ec_bffa_0242ac1c0002row1_col2\" class=\"data row1 col2\" >-0.248441</td>\n",
              "                        <td id=\"T_e57580c4_46d5_11ec_bffa_0242ac1c0002row1_col3\" class=\"data row1 col3\" >-0.614855</td>\n",
              "                        <td id=\"T_e57580c4_46d5_11ec_bffa_0242ac1c0002row1_col4\" class=\"data row1 col4\" >-0.863479</td>\n",
              "            </tr>\n",
              "            <tr>\n",
              "                        <th id=\"T_e57580c4_46d5_11ec_bffa_0242ac1c0002level0_row2\" class=\"row_heading level0 row2\" >City</th>\n",
              "                        <td id=\"T_e57580c4_46d5_11ec_bffa_0242ac1c0002row2_col0\" class=\"data row2 col0\" >-0.188728</td>\n",
              "                        <td id=\"T_e57580c4_46d5_11ec_bffa_0242ac1c0002row2_col1\" class=\"data row2 col1\" >-0.248441</td>\n",
              "                        <td id=\"T_e57580c4_46d5_11ec_bffa_0242ac1c0002row2_col2\" class=\"data row2 col2\" >1.000000</td>\n",
              "                        <td id=\"T_e57580c4_46d5_11ec_bffa_0242ac1c0002row2_col3\" class=\"data row2 col3\" >0.301604</td>\n",
              "                        <td id=\"T_e57580c4_46d5_11ec_bffa_0242ac1c0002row2_col4\" class=\"data row2 col4\" >0.323640</td>\n",
              "            </tr>\n",
              "            <tr>\n",
              "                        <th id=\"T_e57580c4_46d5_11ec_bffa_0242ac1c0002level0_row3\" class=\"row_heading level0 row3\" >Package</th>\n",
              "                        <td id=\"T_e57580c4_46d5_11ec_bffa_0242ac1c0002row3_col0\" class=\"data row3 col0\" >-0.144847</td>\n",
              "                        <td id=\"T_e57580c4_46d5_11ec_bffa_0242ac1c0002row3_col1\" class=\"data row3 col1\" >-0.614855</td>\n",
              "                        <td id=\"T_e57580c4_46d5_11ec_bffa_0242ac1c0002row3_col2\" class=\"data row3 col2\" >0.301604</td>\n",
              "                        <td id=\"T_e57580c4_46d5_11ec_bffa_0242ac1c0002row3_col3\" class=\"data row3 col3\" >1.000000</td>\n",
              "                        <td id=\"T_e57580c4_46d5_11ec_bffa_0242ac1c0002row3_col4\" class=\"data row3 col4\" >0.606171</td>\n",
              "            </tr>\n",
              "            <tr>\n",
              "                        <th id=\"T_e57580c4_46d5_11ec_bffa_0242ac1c0002level0_row4\" class=\"row_heading level0 row4\" >Price</th>\n",
              "                        <td id=\"T_e57580c4_46d5_11ec_bffa_0242ac1c0002row4_col0\" class=\"data row4 col0\" >-0.148783</td>\n",
              "                        <td id=\"T_e57580c4_46d5_11ec_bffa_0242ac1c0002row4_col1\" class=\"data row4 col1\" >-0.863479</td>\n",
              "                        <td id=\"T_e57580c4_46d5_11ec_bffa_0242ac1c0002row4_col2\" class=\"data row4 col2\" >0.323640</td>\n",
              "                        <td id=\"T_e57580c4_46d5_11ec_bffa_0242ac1c0002row4_col3\" class=\"data row4 col3\" >0.606171</td>\n",
              "                        <td id=\"T_e57580c4_46d5_11ec_bffa_0242ac1c0002row4_col4\" class=\"data row4 col4\" >1.000000</td>\n",
              "            </tr>\n",
              "    </tbody></table>"
            ],
            "text/plain": [
              "<pandas.io.formats.style.Styler at 0x7f25ea917a90>"
            ]
          },
          "metadata": {},
          "execution_count": 24
        }
      ]
    },
    {
      "cell_type": "markdown",
      "metadata": {
        "id": "e6QAStgBpoF2"
      },
      "source": [
        "Scikit learn has a helpful API for building polynomial regression models the make_pipeline API. A pipeline is created with a chain of estimators. Here pipeline consists of polynomial features, or predictions that form a non linear path"
      ]
    },
    {
      "cell_type": "code",
      "metadata": {
        "id": "cmjXKOp9pe4u"
      },
      "source": [
        "#building X and y from package and price respectively\n",
        "X = poly_pumpkins.iloc[:,3:4].values\n",
        "y = poly_pumpkins.iloc[:,4:5].values "
      ],
      "execution_count": null,
      "outputs": []
    },
    {
      "cell_type": "code",
      "metadata": {
        "id": "F30rs1MhqLFB"
      },
      "source": [
        "#creating a pipeline \n",
        "from sklearn.preprocessing import PolynomialFeatures\n",
        "from sklearn.pipeline import make_pipeline \n",
        "\n",
        "#using make_pipeline to create a model for polynomial regression\n",
        "pipeline = make_pipeline(PolynomialFeatures(4),LinearRegression())\n",
        "\n",
        "#splitting the data for training and testing \n",
        "X_train, X_test, y_train, y_test = train_test_split(X,y,test_size=0.2,random_state=0)\n",
        "\n",
        "#fitting the model\n",
        "pipeline.fit(np.array(X_train),y_train)\n",
        "\n",
        "y_pred = pipeline.predict(X_test)"
      ],
      "execution_count": null,
      "outputs": []
    },
    {
      "cell_type": "markdown",
      "metadata": {
        "id": "6iiaRaXiq1Sm"
      },
      "source": [
        "We now need to create a new dataframe wita sorted data so that pipeline can create a sequence"
      ]
    },
    {
      "cell_type": "code",
      "metadata": {
        "colab": {
          "base_uri": "https://localhost:8080/",
          "height": 1000
        },
        "id": "WkTYnkdTqxsc",
        "outputId": "b02ff0ce-1133-483e-e6eb-42f00c9ce1a4"
      },
      "source": [
        "#Creating a sequence\n",
        "df = pd.DataFrame({'x':X_test[:,0],'y':y_pred[:,0]})\n",
        "#inplace=True means the current dataframe will be modifiec\n",
        "df.sort_values(by='x',inplace=True)\n",
        "# converting dataframe to numpy array\n",
        "points = pd.DataFrame(df).to_numpy()\n",
        "print(points)\n",
        "#creating a scatterplot to visualize the polynomial regression\n",
        "plt.scatter(X,y,color=\"blue\")\n",
        "plt.plot(points[:,0],points[:,1],color=\"red\",linewidth=3)\n",
        "plt.xlabel('Package')\n",
        "plt.ylabel('Price')\n",
        "plt.title('Predicting the price of the pumpkin based on the package using polynomial regression')\n",
        "plt.show()"
      ],
      "execution_count": null,
      "outputs": [
        {
          "output_type": "stream",
          "name": "stdout",
          "text": [
            "[[ 0.         15.82902893]\n",
            " [ 0.         15.82902893]\n",
            " [ 0.         15.82902893]\n",
            " [ 0.         15.82902893]\n",
            " [ 0.         15.82902893]\n",
            " [ 0.         15.82902893]\n",
            " [ 0.         15.82902893]\n",
            " [ 0.         15.82902893]\n",
            " [ 0.         15.82902893]\n",
            " [ 0.         15.82902893]\n",
            " [ 0.         15.82902893]\n",
            " [ 0.         15.82902893]\n",
            " [ 0.         15.82902893]\n",
            " [ 0.         15.82902893]\n",
            " [ 0.         15.82902893]\n",
            " [ 0.         15.82902893]\n",
            " [ 0.         15.82902893]\n",
            " [ 0.         15.82902893]\n",
            " [ 0.         15.82902893]\n",
            " [ 0.         15.82902893]\n",
            " [ 0.         15.82902893]\n",
            " [ 0.         15.82902893]\n",
            " [ 0.         15.82902893]\n",
            " [ 0.         15.82902893]\n",
            " [ 0.         15.82902893]\n",
            " [ 0.         15.82902893]\n",
            " [ 0.         15.82902893]\n",
            " [ 0.         15.82902893]\n",
            " [ 0.         15.82902893]\n",
            " [ 1.         14.84848485]\n",
            " [ 1.         14.84848485]\n",
            " [ 1.         14.84848485]\n",
            " [ 1.         14.84848485]\n",
            " [ 1.         14.84848485]\n",
            " [ 2.         34.2974359 ]\n",
            " [ 2.         34.2974359 ]\n",
            " [ 2.         34.2974359 ]\n",
            " [ 2.         34.2974359 ]\n",
            " [ 2.         34.2974359 ]\n",
            " [ 2.         34.2974359 ]\n",
            " [ 2.         34.2974359 ]\n",
            " [ 2.         34.2974359 ]\n",
            " [ 2.         34.2974359 ]\n",
            " [ 2.         34.2974359 ]\n",
            " [ 2.         34.2974359 ]\n",
            " [ 2.         34.2974359 ]\n",
            " [ 2.         34.2974359 ]\n",
            " [ 2.         34.2974359 ]\n",
            " [ 2.         34.2974359 ]\n",
            " [ 2.         34.2974359 ]\n",
            " [ 2.         34.2974359 ]\n",
            " [ 2.         34.2974359 ]\n",
            " [ 2.         34.2974359 ]\n",
            " [ 2.         34.2974359 ]\n",
            " [ 2.         34.2974359 ]\n",
            " [ 2.         34.2974359 ]\n",
            " [ 2.         34.2974359 ]\n",
            " [ 2.         34.2974359 ]\n",
            " [ 2.         34.2974359 ]\n",
            " [ 2.         34.2974359 ]\n",
            " [ 2.         34.2974359 ]\n",
            " [ 2.         34.2974359 ]\n",
            " [ 2.         34.2974359 ]\n",
            " [ 2.         34.2974359 ]\n",
            " [ 2.         34.2974359 ]\n",
            " [ 2.         34.2974359 ]\n",
            " [ 2.         34.2974359 ]\n",
            " [ 2.         34.2974359 ]\n",
            " [ 2.         34.2974359 ]\n",
            " [ 2.         34.2974359 ]\n",
            " [ 2.         34.2974359 ]\n",
            " [ 2.         34.2974359 ]\n",
            " [ 2.         34.2974359 ]\n",
            " [ 3.         47.41666667]\n",
            " [ 3.         47.41666667]\n",
            " [ 3.         47.41666667]\n",
            " [ 3.         47.41666667]\n",
            " [ 4.         23.41935484]\n",
            " [ 4.         23.41935484]\n",
            " [ 4.         23.41935484]\n",
            " [ 4.         23.41935484]\n",
            " [ 4.         23.41935484]\n",
            " [ 4.         23.41935484]]\n"
          ]
        },
        {
          "output_type": "display_data",
          "data": {
            "image/png": "[encoded data removed]",
            "text/plain": [
              "<Figure size 432x288 with 1 Axes>"
            ]
          },
          "metadata": {
            "needs_background": "light"
          }
        }
      ]
    },
    {
      "cell_type": "code",
      "metadata": {
        "colab": {
          "base_uri": "https://localhost:8080/"
        },
        "id": "FqrcTiCHr48B",
        "outputId": "ec53d1b8-8108-4669-83cd-f0b9b7497789"
      },
      "source": [
        "#Checking model accuracy and errors \n",
        "accuracy_score = pipeline.score(X_train,y_train)\n",
        "print(f'Model Accuracy: {accuracy_score}')\n",
        "print('MAE: ',mean_absolute_error(y_test,y_pred))\n",
        "print('MSE: ',mean_squared_error(y_test,y_pred))\n",
        "print('R2 Score: ',r2_score(y_test,y_pred))"
      ],
      "execution_count": null,
      "outputs": [
        {
          "output_type": "stream",
          "name": "stdout",
          "text": [
            "Model Accuracy: 0.8537946517073784\n",
            "MAE:  2.6809494597136663\n",
            "MSE:  14.584047030729515\n",
            "R2 Score:  0.8744883218018484\n"
          ]
        }
      ]
    },
    {
      "cell_type": "code",
      "metadata": {
        "colab": {
          "base_uri": "https://localhost:8080/"
        },
        "id": "c5TTtW5nstFm",
        "outputId": "cde04a9a-539f-403e-d952-3c6b7889c1d3"
      },
      "source": [
        "#predicting the price of pumpkin \n",
        "pipeline.predict(np.array([[2.75]]))"
      ],
      "execution_count": null,
      "outputs": [
        {
          "output_type": "execute_result",
          "data": {
            "text/plain": [
              "array([[46.34509342]])"
            ]
          },
          "metadata": {},
          "execution_count": 31
        }
      ]
    },
    {
      "cell_type": "markdown",
      "metadata": {
        "id": "9D0Ogfp4s4l9"
      },
      "source": [
        "So Polynomial Regression works better for predicting price of pumpkin that linear regression in this dataset"
      ]
    },
    {
      "cell_type": "markdown",
      "metadata": {
        "id": "iD-UHrK6bpE3"
      },
      "source": [
        "## Day 4: LOGISTIC REGRESSION\n",
        "- Linear Regression used to best fit line and to predict output which is a continouos value\n",
        "- Logistic Regression used to find probability of an event occuring which is used for categorization problems\n",
        "E.g. to predict if the disease is contagious or not, is the candy chocolate or not"
      ]
    },
    {
      "cell_type": "markdown",
      "metadata": {
        "id": "4rTxQk-kc1_V"
      },
      "source": [
        "#### Here We are predicting given some variables what color a given pumpkin is likely to be Orange or White\n",
        "- In linear regression more the variables were correlated more accuracy was obtained but in logistic regression more accurate results are obtained if we use more data"
      ]
    },
    {
      "cell_type": "code",
      "metadata": {
        "id": "bbGFZqWDs1UY",
        "colab": {
          "base_uri": "https://localhost:8080/"
        },
        "outputId": "ad358e1d-f49a-43db-dd96-896f9105f846"
      },
      "source": [
        "#Start to build Logistic regression model \n",
        "print('Begin Day 4')"
      ],
      "execution_count": 1,
      "outputs": [
        {
          "output_type": "stream",
          "name": "stdout",
          "text": [
            "Begin Day 4\n"
          ]
        }
      ]
    },
    {
      "cell_type": "code",
      "metadata": {
        "colab": {
          "base_uri": "https://localhost:8080/",
          "height": 348
        },
        "id": "UcqP3iu_eX72",
        "outputId": "3ebb400a-f2e8-4323-a9cd-69b713499c2e"
      },
      "source": [
        "#importing the pumpkin data\n",
        "import pandas as pd\n",
        "import numpy as np\n",
        "import matplotlib.pyplot as plt\n",
        "\n",
        "#reading data \n",
        "pumpkins  = pd.read_csv('https://raw.githubusercontent.com/JuJu2181/ML-For-Beginners/main/2-Regression/data/US-pumpkins.csv')\n",
        "pumpkins.head()"
      ],
      "execution_count": 2,
      "outputs": [
        {
          "output_type": "execute_result",
          "data": {
            "text/html": [
              "<div>\n",
              "<style scoped>\n",
              "    .dataframe tbody tr th:only-of-type {\n",
              "        vertical-align: middle;\n",
              "    }\n",
              "\n",
              "    .dataframe tbody tr th {\n",
              "        vertical-align: top;\n",
              "    }\n",
              "\n",
              "    .dataframe thead th {\n",
              "        text-align: right;\n",
              "    }\n",
              "</style>\n",
              "<table border=\"1\" class=\"dataframe\">\n",
              "  <thead>\n",
              "    <tr style=\"text-align: right;\">\n",
              "      <th></th>\n",
              "      <th>City Name</th>\n",
              "      <th>Type</th>\n",
              "      <th>Package</th>\n",
              "      <th>Variety</th>\n",
              "      <th>Sub Variety</th>\n",
              "      <th>Grade</th>\n",
              "      <th>Date</th>\n",
              "      <th>Low Price</th>\n",
              "      <th>High Price</th>\n",
              "      <th>Mostly Low</th>\n",
              "      <th>Mostly High</th>\n",
              "      <th>Origin</th>\n",
              "      <th>Origin District</th>\n",
              "      <th>Item Size</th>\n",
              "      <th>Color</th>\n",
              "      <th>Environment</th>\n",
              "      <th>Unit of Sale</th>\n",
              "      <th>Quality</th>\n",
              "      <th>Condition</th>\n",
              "      <th>Appearance</th>\n",
              "      <th>Storage</th>\n",
              "      <th>Crop</th>\n",
              "      <th>Repack</th>\n",
              "      <th>Trans Mode</th>\n",
              "      <th>Unnamed: 24</th>\n",
              "      <th>Unnamed: 25</th>\n",
              "    </tr>\n",
              "  </thead>\n",
              "  <tbody>\n",
              "    <tr>\n",
              "      <th>0</th>\n",
              "      <td>BALTIMORE</td>\n",
              "      <td>NaN</td>\n",
              "      <td>24 inch bins</td>\n",
              "      <td>NaN</td>\n",
              "      <td>NaN</td>\n",
              "      <td>NaN</td>\n",
              "      <td>4/29/17</td>\n",
              "      <td>270.0</td>\n",
              "      <td>280.0</td>\n",
              "      <td>270.0</td>\n",
              "      <td>280.0</td>\n",
              "      <td>MARYLAND</td>\n",
              "      <td>NaN</td>\n",
              "      <td>lge</td>\n",
              "      <td>NaN</td>\n",
              "      <td>NaN</td>\n",
              "      <td>NaN</td>\n",
              "      <td>NaN</td>\n",
              "      <td>NaN</td>\n",
              "      <td>NaN</td>\n",
              "      <td>NaN</td>\n",
              "      <td>NaN</td>\n",
              "      <td>E</td>\n",
              "      <td>NaN</td>\n",
              "      <td>NaN</td>\n",
              "      <td>NaN</td>\n",
              "    </tr>\n",
              "    <tr>\n",
              "      <th>1</th>\n",
              "      <td>BALTIMORE</td>\n",
              "      <td>NaN</td>\n",
              "      <td>24 inch bins</td>\n",
              "      <td>NaN</td>\n",
              "      <td>NaN</td>\n",
              "      <td>NaN</td>\n",
              "      <td>5/6/17</td>\n",
              "      <td>270.0</td>\n",
              "      <td>280.0</td>\n",
              "      <td>270.0</td>\n",
              "      <td>280.0</td>\n",
              "      <td>MARYLAND</td>\n",
              "      <td>NaN</td>\n",
              "      <td>lge</td>\n",
              "      <td>NaN</td>\n",
              "      <td>NaN</td>\n",
              "      <td>NaN</td>\n",
              "      <td>NaN</td>\n",
              "      <td>NaN</td>\n",
              "      <td>NaN</td>\n",
              "      <td>NaN</td>\n",
              "      <td>NaN</td>\n",
              "      <td>E</td>\n",
              "      <td>NaN</td>\n",
              "      <td>NaN</td>\n",
              "      <td>NaN</td>\n",
              "    </tr>\n",
              "    <tr>\n",
              "      <th>2</th>\n",
              "      <td>BALTIMORE</td>\n",
              "      <td>NaN</td>\n",
              "      <td>24 inch bins</td>\n",
              "      <td>HOWDEN TYPE</td>\n",
              "      <td>NaN</td>\n",
              "      <td>NaN</td>\n",
              "      <td>9/24/16</td>\n",
              "      <td>160.0</td>\n",
              "      <td>160.0</td>\n",
              "      <td>160.0</td>\n",
              "      <td>160.0</td>\n",
              "      <td>DELAWARE</td>\n",
              "      <td>NaN</td>\n",
              "      <td>med</td>\n",
              "      <td>ORANGE</td>\n",
              "      <td>NaN</td>\n",
              "      <td>NaN</td>\n",
              "      <td>NaN</td>\n",
              "      <td>NaN</td>\n",
              "      <td>NaN</td>\n",
              "      <td>NaN</td>\n",
              "      <td>NaN</td>\n",
              "      <td>N</td>\n",
              "      <td>NaN</td>\n",
              "      <td>NaN</td>\n",
              "      <td>NaN</td>\n",
              "    </tr>\n",
              "    <tr>\n",
              "      <th>3</th>\n",
              "      <td>BALTIMORE</td>\n",
              "      <td>NaN</td>\n",
              "      <td>24 inch bins</td>\n",
              "      <td>HOWDEN TYPE</td>\n",
              "      <td>NaN</td>\n",
              "      <td>NaN</td>\n",
              "      <td>9/24/16</td>\n",
              "      <td>160.0</td>\n",
              "      <td>160.0</td>\n",
              "      <td>160.0</td>\n",
              "      <td>160.0</td>\n",
              "      <td>VIRGINIA</td>\n",
              "      <td>NaN</td>\n",
              "      <td>med</td>\n",
              "      <td>ORANGE</td>\n",
              "      <td>NaN</td>\n",
              "      <td>NaN</td>\n",
              "      <td>NaN</td>\n",
              "      <td>NaN</td>\n",
              "      <td>NaN</td>\n",
              "      <td>NaN</td>\n",
              "      <td>NaN</td>\n",
              "      <td>N</td>\n",
              "      <td>NaN</td>\n",
              "      <td>NaN</td>\n",
              "      <td>NaN</td>\n",
              "    </tr>\n",
              "    <tr>\n",
              "      <th>4</th>\n",
              "      <td>BALTIMORE</td>\n",
              "      <td>NaN</td>\n",
              "      <td>24 inch bins</td>\n",
              "      <td>HOWDEN TYPE</td>\n",
              "      <td>NaN</td>\n",
              "      <td>NaN</td>\n",
              "      <td>11/5/16</td>\n",
              "      <td>90.0</td>\n",
              "      <td>100.0</td>\n",
              "      <td>90.0</td>\n",
              "      <td>100.0</td>\n",
              "      <td>MARYLAND</td>\n",
              "      <td>NaN</td>\n",
              "      <td>lge</td>\n",
              "      <td>ORANGE</td>\n",
              "      <td>NaN</td>\n",
              "      <td>NaN</td>\n",
              "      <td>NaN</td>\n",
              "      <td>NaN</td>\n",
              "      <td>NaN</td>\n",
              "      <td>NaN</td>\n",
              "      <td>NaN</td>\n",
              "      <td>N</td>\n",
              "      <td>NaN</td>\n",
              "      <td>NaN</td>\n",
              "      <td>NaN</td>\n",
              "    </tr>\n",
              "  </tbody>\n",
              "</table>\n",
              "</div>"
            ],
            "text/plain": [
              "   City Name Type       Package  ... Trans Mode Unnamed: 24  Unnamed: 25\n",
              "0  BALTIMORE  NaN  24 inch bins  ...        NaN         NaN          NaN\n",
              "1  BALTIMORE  NaN  24 inch bins  ...        NaN         NaN          NaN\n",
              "2  BALTIMORE  NaN  24 inch bins  ...        NaN         NaN          NaN\n",
              "3  BALTIMORE  NaN  24 inch bins  ...        NaN         NaN          NaN\n",
              "4  BALTIMORE  NaN  24 inch bins  ...        NaN         NaN          NaN\n",
              "\n",
              "[5 rows x 26 columns]"
            ]
          },
          "metadata": {},
          "execution_count": 2
        }
      ]
    },
    {
      "cell_type": "code",
      "metadata": {
        "colab": {
          "base_uri": "https://localhost:8080/"
        },
        "id": "0HjWw7lOe5RT",
        "outputId": "64dce0bb-5e8a-477a-9b23-47a0e0680894"
      },
      "source": [
        "#tidying the data \n",
        "from sklearn.preprocessing import LabelEncoder \n",
        "new_columns = ['Color','Origin','Item Size','Variety','City Name','Package']\n",
        "new_pumpkins = pumpkins.drop([c for c in pumpkins.columns if c not in new_columns],axis='columns')\n",
        "new_pumpkins.dropna(inplace=True)\n",
        "#LabelEncoder will encode the target labels with values between 0 and n_classes-1\n",
        "new_pumpkins = new_pumpkins.apply(LabelEncoder().fit_transform)\n",
        "new_pumpkins.info"
      ],
      "execution_count": 3,
      "outputs": [
        {
          "output_type": "execute_result",
          "data": {
            "text/plain": [
              "<bound method DataFrame.info of       City Name  Package  Variety  Origin  Item Size  Color\n",
              "2             1        3        4       3          3      0\n",
              "3             1        3        4      17          3      0\n",
              "4             1        3        4       5          2      0\n",
              "5             1        3        4       5          2      0\n",
              "6             1        4        4       5          3      0\n",
              "...         ...      ...      ...     ...        ...    ...\n",
              "1694         12        3        5       4          6      1\n",
              "1695         12        3        5       4          6      1\n",
              "1696         12        3        5       4          6      1\n",
              "1697         12        3        5       4          6      1\n",
              "1698         12        3        5       4          6      1\n",
              "\n",
              "[991 rows x 6 columns]>"
            ]
          },
          "metadata": {},
          "execution_count": 3
        }
      ]
    },
    {
      "cell_type": "code",
      "metadata": {
        "colab": {
          "base_uri": "https://localhost:8080/",
          "height": 867
        },
        "id": "G_8aSskDfdRy",
        "outputId": "6ce8d0a3-c2e1-45d6-cdac-9285976070af"
      },
      "source": [
        "#using seaborn for data visualization\n",
        "import seaborn as sns \n",
        "#using PairGrid to compare the distributions of data side by side \n",
        "g = sns.PairGrid(new_pumpkins)\n",
        "g.map(sns.scatterplot)"
      ],
      "execution_count": 4,
      "outputs": [
        {
          "output_type": "execute_result",
          "data": {
            "text/plain": [
              "<seaborn.axisgrid.PairGrid at 0x7fde4a141c10>"
            ]
          },
          "metadata": {},
          "execution_count": 4
        },
        {
          "output_type": "display_data",
          "data": {
            "image/png": "[encoded data removed]",
            "text/plain": [
              "<Figure size 1080x1080 with 36 Axes>"
            ]
          },
          "metadata": {
            "needs_background": "light"
          }
        }
      ]
    },
    {
      "cell_type": "code",
      "metadata": {
        "colab": {
          "base_uri": "https://localhost:8080/",
          "height": 386
        },
        "id": "bSTDHAoSkrrI",
        "outputId": "d369072e-17b0-460f-b712-eb20adb15748"
      },
      "source": [
        "#using swarm plot to visualize the relationship of the category \n",
        "sns.swarmplot(x=\"Color\",y=\"Item Size\",data=new_pumpkins)"
      ],
      "execution_count": 5,
      "outputs": [
        {
          "output_type": "stream",
          "name": "stderr",
          "text": [
            "/usr/local/lib/python3.7/dist-packages/seaborn/categorical.py:1296: UserWarning: 80.6% of the points cannot be placed; you may want to decrease the size of the markers or use stripplot.\n",
            "  warnings.warn(msg, UserWarning)\n",
            "/usr/local/lib/python3.7/dist-packages/seaborn/categorical.py:1296: UserWarning: 37.2% of the points cannot be placed; you may want to decrease the size of the markers or use stripplot.\n",
            "  warnings.warn(msg, UserWarning)\n"
          ]
        },
        {
          "output_type": "execute_result",
          "data": {
            "text/plain": [
              "<matplotlib.axes._subplots.AxesSubplot at 0x7fde3e6aca50>"
            ]
          },
          "metadata": {},
          "execution_count": 5
        },
        {
          "output_type": "display_data",
          "data": {
            "image/png": "[encoded data removed]",
            "text/plain": [
              "<Figure size 432x288 with 1 Axes>"
            ]
          },
          "metadata": {
            "needs_background": "light"
          }
        }
      ]
    },
    {
      "cell_type": "code",
      "metadata": {
        "colab": {
          "base_uri": "https://localhost:8080/",
          "height": 386
        },
        "id": "WRmEPGRFlFtj",
        "outputId": "04b700e0-7631-4c01-afe3-edf6592ea104"
      },
      "source": [
        "#Using violin plot to visualize how data is distributed in two categories \n",
        "sns.catplot(x=\"Color\",y=\"Item Size\",kind=\"violin\",data=new_pumpkins)"
      ],
      "execution_count": 6,
      "outputs": [
        {
          "output_type": "execute_result",
          "data": {
            "text/plain": [
              "<seaborn.axisgrid.FacetGrid at 0x7fde4c8ac250>"
            ]
          },
          "metadata": {},
          "execution_count": 6
        },
        {
          "output_type": "display_data",
          "data": {
            "image/png": "[encoded data removed]",
            "text/plain": [
              "<Figure size 360x360 with 1 Axes>"
            ]
          },
          "metadata": {
            "needs_background": "light"
          }
        }
      ]
    },
    {
      "cell_type": "markdown",
      "metadata": {
        "id": "YqhJns4ylagE"
      },
      "source": [
        "Linear Regressio is based on the ordinary least squares for predicting the data but Logistic regression uses the concept of maximum likelihood using sigmoid functions\n",
        "- Sigmoid function on a plot looks like S shape and it takes a value that maps somewhere between 0 and 1"
      ]
    },
    {
      "cell_type": "code",
      "metadata": {
        "id": "H_O-gvsBlVl8"
      },
      "source": [
        "#building a model to find binary classification of color i-e orange or not_orange\n",
        "from sklearn.model_selection import train_test_split\n",
        "Selected_features = ['Origin','Item Size','Variety','City Name','Package']\n",
        "\n",
        "X= new_pumpkins[Selected_features]\n",
        "y = new_pumpkins['Color']\n",
        "\n",
        "X_train,X_test,y_train,y_test = train_test_split(X,y,test_size=0.2,random_state=0)"
      ],
      "execution_count": 7,
      "outputs": []
    },
    {
      "cell_type": "code",
      "metadata": {
        "colab": {
          "base_uri": "https://localhost:8080/"
        },
        "id": "0PjEoxFqmPrF",
        "outputId": "9e84815e-9937-4c2f-fb8c-f00ec718747b"
      },
      "source": [
        "#to train the model\n",
        "from sklearn.metrics import accuracy_score,classification_report\n",
        "from sklearn.linear_model import LogisticRegression\n",
        "\n",
        "model = LogisticRegression()\n",
        "model.fit(X_train,y_train)\n",
        "predictions = model.predict(X_test)\n",
        "\n",
        "print(classification_report(y_test,predictions))\n",
        "print('Predicted Labels: ',predictions)\n",
        "print('Accuracy: ',accuracy_score(y_test,predictions))"
      ],
      "execution_count": 8,
      "outputs": [
        {
          "output_type": "stream",
          "name": "stdout",
          "text": [
            "              precision    recall  f1-score   support\n",
            "\n",
            "           0       0.83      0.98      0.90       166\n",
            "           1       0.00      0.00      0.00        33\n",
            "\n",
            "    accuracy                           0.81       199\n",
            "   macro avg       0.42      0.49      0.45       199\n",
            "weighted avg       0.69      0.81      0.75       199\n",
            "\n",
            "Predicted Labels:  [0 0 1 0 0 0 0 0 0 0 0 0 0 0 0 0 0 0 0 0 0 0 0 0 0 0 0 0 0 0 0 0 0 1 0 0 0\n",
            " 0 0 0 0 0 0 0 0 0 0 0 0 0 0 0 0 0 0 0 0 0 0 0 0 0 0 0 0 0 0 0 0 0 0 0 0 0\n",
            " 0 0 0 0 0 0 0 0 0 0 0 0 0 0 0 0 0 0 0 0 0 0 0 0 0 0 0 0 0 0 0 0 0 0 0 0 0\n",
            " 0 0 0 0 0 0 0 0 0 0 0 0 0 0 0 0 0 0 0 0 0 0 0 0 0 0 0 0 0 0 0 0 0 1 0 0 0\n",
            " 0 0 0 0 0 0 0 0 0 0 0 0 0 0 0 0 0 0 0 0 0 0 0 0 0 0 0 0 0 0 0 0 0 0 0 0 0\n",
            " 0 0 0 0 0 1 0 0 0 0 0 0 0 0]\n",
            "Accuracy:  0.8140703517587939\n"
          ]
        }
      ]
    },
    {
      "cell_type": "markdown",
      "metadata": {
        "id": "SlkhrvZNnpE-"
      },
      "source": [
        "To understand a model more easily we can use confusion matrix\n",
        "- A confusion matrix or error matrix is a table that expresses your model's true vs false positives thus gauging the accuracy of predictions"
      ]
    },
    {
      "cell_type": "code",
      "metadata": {
        "colab": {
          "base_uri": "https://localhost:8080/"
        },
        "id": "JPquWE_6msiy",
        "outputId": "4d19cbd5-bee3-4dac-d90f-14998a8c2983"
      },
      "source": [
        "#to use confusion metrics \n",
        "from sklearn.metrics import confusion_matrix \n",
        "confusion_matrix(y_test,predictions)"
      ],
      "execution_count": 9,
      "outputs": [
        {
          "output_type": "execute_result",
          "data": {
            "text/plain": [
              "array([[162,   4],\n",
              "       [ 33,   0]])"
            ]
          },
          "metadata": {},
          "execution_count": 9
        }
      ]
    },
    {
      "cell_type": "code",
      "metadata": {
        "colab": {
          "base_uri": "https://localhost:8080/",
          "height": 372
        },
        "id": "0AmecR_yoDs2",
        "outputId": "2d4693c7-81dd-499a-d910-e918c5200866"
      },
      "source": [
        "#Visualization usig ROC score \n",
        "from sklearn.metrics import roc_curve, roc_auc_score\n",
        "y_scores = model.predict_proba(X_test)\n",
        "#calculate ROC curve \n",
        "fpr, tpr, thresholds = roc_curve(y_test,y_scores[:,1])\n",
        "sns.lineplot([0,1],[0,1])\n",
        "sns.lineplot(fpr,tpr)"
      ],
      "execution_count": 10,
      "outputs": [
        {
          "output_type": "stream",
          "name": "stderr",
          "text": [
            "/usr/local/lib/python3.7/dist-packages/seaborn/_decorators.py:43: FutureWarning: Pass the following variables as keyword args: x, y. From version 0.12, the only valid positional argument will be `data`, and passing other arguments without an explicit keyword will result in an error or misinterpretation.\n",
            "  FutureWarning\n",
            "/usr/local/lib/python3.7/dist-packages/seaborn/_decorators.py:43: FutureWarning: Pass the following variables as keyword args: x, y. From version 0.12, the only valid positional argument will be `data`, and passing other arguments without an explicit keyword will result in an error or misinterpretation.\n",
            "  FutureWarning\n"
          ]
        },
        {
          "output_type": "execute_result",
          "data": {
            "text/plain": [
              "<matplotlib.axes._subplots.AxesSubplot at 0x7fde3a61ea90>"
            ]
          },
          "metadata": {},
          "execution_count": 10
        },
        {
          "output_type": "display_data",
          "data": {
            "image/png": "[encoded data removed]",
            "text/plain": [
              "<Figure size 432x288 with 1 Axes>"
            ]
          },
          "metadata": {
            "needs_background": "light"
          }
        }
      ]
    },
    {
      "cell_type": "code",
      "metadata": {
        "colab": {
          "base_uri": "https://localhost:8080/"
        },
        "id": "Qh_JGsuTpE3p",
        "outputId": "5379dc8c-b2de-4548-bbcc-fa161a426a4e"
      },
      "source": [
        "#usinf roc_auc_score API to compute the actual area under curve(AUC)\n",
        "auc = roc_auc_score(y_test,y_scores[:,1])\n",
        "print(auc)"
      ],
      "execution_count": 11,
      "outputs": [
        {
          "output_type": "stream",
          "name": "stdout",
          "text": [
            "0.6976998904709748\n"
          ]
        }
      ]
    },
    {
      "cell_type": "code",
      "metadata": {
        "id": "ugDz3wqUqusI"
      },
      "source": [
        ""
      ],
      "execution_count": null,
      "outputs": []
    }
  ]
}